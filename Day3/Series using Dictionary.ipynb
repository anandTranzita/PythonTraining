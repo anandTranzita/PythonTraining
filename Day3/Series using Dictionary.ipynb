{
 "cells": [
  {
   "cell_type": "markdown",
   "id": "989b43f2-7f9a-4226-836d-53ff8f13eb73",
   "metadata": {},
   "source": [
    "# Create a Series Object from a Dictionary"
   ]
  },
  {
   "cell_type": "code",
   "execution_count": 4,
   "id": "67c8ff2d-c7ae-4637-8916-67303ff828b5",
   "metadata": {},
   "outputs": [],
   "source": [
    "import pandas as pd"
   ]
  },
  {
   "cell_type": "code",
   "execution_count": 5,
   "id": "9beb6728-e8db-4461-91f4-8c9545263e22",
   "metadata": {},
   "outputs": [
    {
     "data": {
      "text/plain": [
       "Name        Anand Sharma\n",
       "Subject           Python\n",
       "City           Gorakhpur\n",
       "State      Uttar Pradesh\n",
       "dtype: object"
      ]
     },
     "execution_count": 5,
     "metadata": {},
     "output_type": "execute_result"
    }
   ],
   "source": [
    "dict = {\n",
    "    \"Name\" : \"Anand Sharma\",\n",
    "    \"Subject\" : \"Python\",\n",
    "    \"City\" : \"Gorakhpur\",\n",
    "    \"State\" : \"Uttar Pradesh\"\n",
    "}\n",
    "pd.Series(dict)"
   ]
  },
  {
   "cell_type": "code",
   "execution_count": 7,
   "id": "fc77e33a-3e04-4f4d-b5e7-635255577b84",
   "metadata": {},
   "outputs": [],
   "source": [
    "student = {\n",
    "     \"Name\" : [\"Anand\", \"Kunal\", \"Vivek\", \"Pravi\"],\n",
    "    \"Marks\" : [95, 85, 98, 68, 79]\n",
    "}\n",
    "details = pd.Series(student)"
   ]
  },
  {
   "cell_type": "code",
   "execution_count": 8,
   "id": "3edae680-914f-40ce-a4a6-be8d167437f2",
   "metadata": {},
   "outputs": [
    {
     "data": {
      "text/plain": [
       "Name     [Anand, Kunal, Vivek, Pravi]\n",
       "Marks            [95, 85, 98, 68, 79]\n",
       "dtype: object"
      ]
     },
     "execution_count": 8,
     "metadata": {},
     "output_type": "execute_result"
    }
   ],
   "source": [
    "details"
   ]
  },
  {
   "cell_type": "code",
   "execution_count": null,
   "id": "986b066b-b920-407c-a5de-d85a706769fe",
   "metadata": {},
   "outputs": [],
   "source": []
  }
 ],
 "metadata": {
  "kernelspec": {
   "display_name": "Python 3 (ipykernel)",
   "language": "python",
   "name": "python3"
  },
  "language_info": {
   "codemirror_mode": {
    "name": "ipython",
    "version": 3
   },
   "file_extension": ".py",
   "mimetype": "text/x-python",
   "name": "python",
   "nbconvert_exporter": "python",
   "pygments_lexer": "ipython3",
   "version": "3.12.0"
  }
 },
 "nbformat": 4,
 "nbformat_minor": 5
}
