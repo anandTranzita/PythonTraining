{
 "cells": [
  {
   "cell_type": "markdown",
   "id": "b1afd7f6-0cdb-419b-8293-ff4f7ad6bb52",
   "metadata": {},
   "source": [
    "# Intro to Attributes"
   ]
  },
  {
   "cell_type": "code",
   "execution_count": 1,
   "id": "53ef9f70-68f6-4a56-acfb-2feb1ede0e74",
   "metadata": {},
   "outputs": [],
   "source": [
    "import pandas as pd"
   ]
  },
  {
   "cell_type": "code",
   "execution_count": 9,
   "id": "413e1214-5650-487b-b162-cf4d72ef7e33",
   "metadata": {},
   "outputs": [
    {
     "data": {
      "text/plain": [
       "0        Smart\n",
       "1      Hansome\n",
       "2     Charming\n",
       "3    Brilliant\n",
       "4       Humble\n",
       "dtype: object"
      ]
     },
     "execution_count": 9,
     "metadata": {},
     "output_type": "execute_result"
    }
   ],
   "source": [
    "adjectives = pd.Series([\"Smart\", \"Hansome\",\"Charming\",\"Brilliant\",\"Humble\"])\n",
    "adjectives"
   ]
  },
  {
   "cell_type": "code",
   "execution_count": 10,
   "id": "4fb7166c-c152-4f70-b8b1-6dbeadf9e6f0",
   "metadata": {},
   "outputs": [
    {
     "data": {
      "text/plain": [
       "5"
      ]
     },
     "execution_count": 10,
     "metadata": {},
     "output_type": "execute_result"
    }
   ],
   "source": [
    "adjectives.size"
   ]
  },
  {
   "cell_type": "code",
   "execution_count": 11,
   "id": "4725e3c9-5ad2-4b33-a6b0-f5e7525c4369",
   "metadata": {},
   "outputs": [
    {
     "data": {
      "text/plain": [
       "True"
      ]
     },
     "execution_count": 11,
     "metadata": {},
     "output_type": "execute_result"
    }
   ],
   "source": [
    "adjectives.is_unique"
   ]
  },
  {
   "cell_type": "code",
   "execution_count": 12,
   "id": "75313379-30db-4005-b406-b19c53c68bb7",
   "metadata": {},
   "outputs": [
    {
     "data": {
      "text/plain": [
       "RangeIndex(start=0, stop=5, step=1)"
      ]
     },
     "execution_count": 12,
     "metadata": {},
     "output_type": "execute_result"
    }
   ],
   "source": [
    "adjectives.index"
   ]
  },
  {
   "cell_type": "code",
   "execution_count": 15,
   "id": "b5deff07-3f52-4307-9b52-ad7ba9aa6427",
   "metadata": {},
   "outputs": [
    {
     "data": {
      "text/plain": [
       "numpy.ndarray"
      ]
     },
     "execution_count": 15,
     "metadata": {},
     "output_type": "execute_result"
    }
   ],
   "source": [
    "type(adjectives.values)"
   ]
  },
  {
   "cell_type": "code",
   "execution_count": null,
   "id": "60836d1b-cbd4-4cee-8b0f-178e996838cb",
   "metadata": {},
   "outputs": [],
   "source": []
  }
 ],
 "metadata": {
  "kernelspec": {
   "display_name": "Python 3 (ipykernel)",
   "language": "python",
   "name": "python3"
  },
  "language_info": {
   "codemirror_mode": {
    "name": "ipython",
    "version": 3
   },
   "file_extension": ".py",
   "mimetype": "text/x-python",
   "name": "python",
   "nbconvert_exporter": "python",
   "pygments_lexer": "ipython3",
   "version": "3.12.0"
  }
 },
 "nbformat": 4,
 "nbformat_minor": 5
}
