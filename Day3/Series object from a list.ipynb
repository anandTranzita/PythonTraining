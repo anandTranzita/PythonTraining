{
 "cells": [
  {
   "cell_type": "markdown",
   "id": "5fa2e25c-1ef6-438c-8185-dac63e9c17be",
   "metadata": {},
   "source": [
    "# Create a Series object from a List"
   ]
  },
  {
   "cell_type": "code",
   "execution_count": 12,
   "id": "54bd9b06-b401-4d13-8df8-044b71201f23",
   "metadata": {},
   "outputs": [],
   "source": [
    "import pandas as pd"
   ]
  },
  {
   "cell_type": "code",
   "execution_count": 13,
   "id": "c33e4ccd-33ef-4503-b8a4-a5780ed2adcc",
   "metadata": {},
   "outputs": [
    {
     "data": {
      "text/plain": [
       "0     Anand\n",
       "1     Kunal\n",
       "2     Vivek\n",
       "3     Pravi\n",
       "4    Piyush\n",
       "dtype: object"
      ]
     },
     "execution_count": 13,
     "metadata": {},
     "output_type": "execute_result"
    }
   ],
   "source": [
    "name  = [\"Anand\", \"Kunal\", \"Vivek\", \"Pravi\", \"Piyush\"]\n",
    "pd.Series(name)"
   ]
  },
  {
   "cell_type": "code",
   "execution_count": 14,
   "id": "b21c3549-571d-4c4e-be51-ac13ca00c0e0",
   "metadata": {},
   "outputs": [],
   "source": [
    "num = [6,5,9,7,1,20]"
   ]
  },
  {
   "cell_type": "code",
   "execution_count": 15,
   "id": "9034c645-4392-4d53-865d-6ee95956962d",
   "metadata": {},
   "outputs": [
    {
     "data": {
      "text/plain": [
       "0     6\n",
       "1     5\n",
       "2     9\n",
       "3     7\n",
       "4     1\n",
       "5    20\n",
       "dtype: int64"
      ]
     },
     "execution_count": 15,
     "metadata": {},
     "output_type": "execute_result"
    }
   ],
   "source": [
    "pd.Series(num)"
   ]
  },
  {
   "cell_type": "code",
   "execution_count": 16,
   "id": "16750890-cff4-47a0-82d4-d4cfce4f8d99",
   "metadata": {},
   "outputs": [],
   "source": [
    "bool = [True,False,True]"
   ]
  },
  {
   "cell_type": "code",
   "execution_count": 17,
   "id": "8c5037a4-823c-488e-9bcd-c312049d3990",
   "metadata": {},
   "outputs": [
    {
     "data": {
      "text/plain": [
       "0     True\n",
       "1    False\n",
       "2     True\n",
       "dtype: bool"
      ]
     },
     "execution_count": 17,
     "metadata": {},
     "output_type": "execute_result"
    }
   ],
   "source": [
    "pd.Series(bool)"
   ]
  },
  {
   "cell_type": "code",
   "execution_count": null,
   "id": "53c428da-540d-4e7b-8e99-bcea248254ac",
   "metadata": {},
   "outputs": [],
   "source": []
  },
  {
   "cell_type": "code",
   "execution_count": null,
   "id": "cbac0892-8903-4369-97dc-e1ee2258a2ab",
   "metadata": {},
   "outputs": [],
   "source": []
  },
  {
   "cell_type": "code",
   "execution_count": null,
   "id": "6ae1668a-c6f0-4a22-a90b-40796690017d",
   "metadata": {},
   "outputs": [],
   "source": []
  },
  {
   "cell_type": "code",
   "execution_count": null,
   "id": "2e0125ed-cb31-4674-8284-9e22a7e3ce1f",
   "metadata": {},
   "outputs": [],
   "source": []
  },
  {
   "cell_type": "code",
   "execution_count": null,
   "id": "c4782f79-5b4e-412a-a63b-dbc5daebdd54",
   "metadata": {},
   "outputs": [],
   "source": []
  },
  {
   "cell_type": "code",
   "execution_count": null,
   "id": "80e121cf-1476-4091-97ca-37c272c92fd1",
   "metadata": {},
   "outputs": [],
   "source": []
  }
 ],
 "metadata": {
  "kernelspec": {
   "display_name": "Python 3 (ipykernel)",
   "language": "python",
   "name": "python3"
  },
  "language_info": {
   "codemirror_mode": {
    "name": "ipython",
    "version": 3
   },
   "file_extension": ".py",
   "mimetype": "text/x-python",
   "name": "python",
   "nbconvert_exporter": "python",
   "pygments_lexer": "ipython3",
   "version": "3.12.0"
  }
 },
 "nbformat": 4,
 "nbformat_minor": 5
}
