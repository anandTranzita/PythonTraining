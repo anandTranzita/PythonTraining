{
 "cells": [
  {
   "cell_type": "markdown",
   "id": "840d30e5-7a86-423c-af8e-50fb0ce6a773",
   "metadata": {},
   "source": [
    "# Intro to Series Methods"
   ]
  },
  {
   "cell_type": "code",
   "execution_count": 1,
   "id": "c611a706-e7ed-46c0-8f8b-ca9f36711df0",
   "metadata": {},
   "outputs": [],
   "source": [
    "import pandas as pd"
   ]
  },
  {
   "cell_type": "code",
   "execution_count": 3,
   "id": "d5609906-fa92-46ed-83fe-42f922e45ddf",
   "metadata": {},
   "outputs": [],
   "source": [
    "prices = pd.Series([2.99,8.33,4.12])\n"
   ]
  },
  {
   "cell_type": "code",
   "execution_count": 4,
   "id": "84b48282-67e7-469d-babd-ddef065d804c",
   "metadata": {},
   "outputs": [
    {
     "data": {
      "text/plain": [
       "0    2.99\n",
       "1    8.33\n",
       "2    4.12\n",
       "dtype: float64"
      ]
     },
     "execution_count": 4,
     "metadata": {},
     "output_type": "execute_result"
    }
   ],
   "source": [
    "prices"
   ]
  },
  {
   "cell_type": "code",
   "execution_count": 5,
   "id": "36983933-3260-4249-bce0-c39180394e42",
   "metadata": {},
   "outputs": [
    {
     "data": {
      "text/plain": [
       "15.440000000000001"
      ]
     },
     "execution_count": 5,
     "metadata": {},
     "output_type": "execute_result"
    }
   ],
   "source": [
    "prices.sum()"
   ]
  },
  {
   "cell_type": "code",
   "execution_count": 6,
   "id": "fc5f3727-2d79-40ae-a026-1a44afe5e603",
   "metadata": {},
   "outputs": [
    {
     "data": {
      "text/plain": [
       "102.615604"
      ]
     },
     "execution_count": 6,
     "metadata": {},
     "output_type": "execute_result"
    }
   ],
   "source": [
    "prices.product()"
   ]
  },
  {
   "cell_type": "code",
   "execution_count": 7,
   "id": "63b86199-5ab0-4e54-b7ed-06d2371ab265",
   "metadata": {},
   "outputs": [
    {
     "data": {
      "text/plain": [
       "5.146666666666667"
      ]
     },
     "execution_count": 7,
     "metadata": {},
     "output_type": "execute_result"
    }
   ],
   "source": [
    "prices.mean()"
   ]
  },
  {
   "cell_type": "code",
   "execution_count": 8,
   "id": "8f5d1e52-69de-4f9a-9293-cdfcbd208d4a",
   "metadata": {},
   "outputs": [
    {
     "data": {
      "text/plain": [
       "2.814148775977086"
      ]
     },
     "execution_count": 8,
     "metadata": {},
     "output_type": "execute_result"
    }
   ],
   "source": [
    "prices.std()"
   ]
  },
  {
   "cell_type": "code",
   "execution_count": 9,
   "id": "ad4df83a-923f-4c22-93ab-f6dde3c32628",
   "metadata": {},
   "outputs": [
    {
     "data": {
      "text/plain": [
       "2.99"
      ]
     },
     "execution_count": 9,
     "metadata": {},
     "output_type": "execute_result"
    }
   ],
   "source": [
    "prices.min()"
   ]
  },
  {
   "cell_type": "code",
   "execution_count": 10,
   "id": "af4c2eb7-6776-4168-868d-65ec6cb09fbf",
   "metadata": {},
   "outputs": [
    {
     "data": {
      "text/plain": [
       "8.33"
      ]
     },
     "execution_count": 10,
     "metadata": {},
     "output_type": "execute_result"
    }
   ],
   "source": [
    "prices.max()"
   ]
  },
  {
   "cell_type": "code",
   "execution_count": null,
   "id": "631e133a-a308-4e57-b984-da433d5a01d6",
   "metadata": {},
   "outputs": [],
   "source": []
  }
 ],
 "metadata": {
  "kernelspec": {
   "display_name": "Python 3 (ipykernel)",
   "language": "python",
   "name": "python3"
  },
  "language_info": {
   "codemirror_mode": {
    "name": "ipython",
    "version": 3
   },
   "file_extension": ".py",
   "mimetype": "text/x-python",
   "name": "python",
   "nbconvert_exporter": "python",
   "pygments_lexer": "ipython3",
   "version": "3.12.0"
  }
 },
 "nbformat": 4,
 "nbformat_minor": 5
}
