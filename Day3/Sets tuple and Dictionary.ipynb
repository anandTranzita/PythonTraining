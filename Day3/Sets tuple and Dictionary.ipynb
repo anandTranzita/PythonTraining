{
 "cells": [
  {
   "cell_type": "markdown",
   "id": "f770c9c8-5ed9-4cc4-9f71-df595d1c1490",
   "metadata": {},
   "source": [
    "# SETS\n",
    "    Unorderd collection data type that is iterable,mutable, and has no duplicate elements.\n"
   ]
  },
  {
   "cell_type": "code",
   "execution_count": 9,
   "id": "3fbbebf6-d94b-4b55-80d2-79a775622e9e",
   "metadata": {},
   "outputs": [
    {
     "data": {
      "text/plain": [
       "{1, 100, 2, 20, 25, 3, 4, 5, 6, 65, 7, 'Anand'}"
      ]
     },
     "execution_count": 9,
     "metadata": {},
     "output_type": "execute_result"
    }
   ],
   "source": [
    "set = {20,65,25,100,1,2,3,1,2,3,4,5,6,7, 'Anand'}\n",
    "set\n"
   ]
  },
  {
   "cell_type": "code",
   "execution_count": 17,
   "id": "6676c4d4-8e75-45dd-bf43-9f877f1458e8",
   "metadata": {},
   "outputs": [
    {
     "name": "stdout",
     "output_type": "stream",
     "text": [
      "65\n",
      "2\n",
      "3\n",
      "100\n",
      "1\n",
      "4\n",
      "5\n",
      "6\n",
      "7\n",
      "20\n",
      "25\n",
      "Anand\n"
     ]
    }
   ],
   "source": [
    "for i in set:\n",
    "    print(i)"
   ]
  },
  {
   "cell_type": "code",
   "execution_count": 18,
   "id": "09805574-48bb-427b-9150-d6562bfbb8bb",
   "metadata": {},
   "outputs": [],
   "source": [
    "set_var = {\"Anand\",\"Kunal\", \"Vivek\", \"Piyush\", \"Pravi\"}"
   ]
  },
  {
   "cell_type": "code",
   "execution_count": 19,
   "id": "c2d0480a-6e07-47a9-9bfc-a476af6e62c2",
   "metadata": {},
   "outputs": [],
   "source": [
    "set_var.add(\"Abhay\")"
   ]
  },
  {
   "cell_type": "code",
   "execution_count": 20,
   "id": "786e6ecb-6392-4559-9caa-1d0875dda75e",
   "metadata": {},
   "outputs": [
    {
     "data": {
      "text/plain": [
       "{'Abhay', 'Anand', 'Kunal', 'Piyush', 'Pravi', 'Vivek'}"
      ]
     },
     "execution_count": 20,
     "metadata": {},
     "output_type": "execute_result"
    }
   ],
   "source": [
    "set_var"
   ]
  },
  {
   "cell_type": "code",
   "execution_count": 25,
   "id": "171dc3ba-8f83-4821-8774-3ed8b7f7b450",
   "metadata": {},
   "outputs": [
    {
     "name": "stdout",
     "output_type": "stream",
     "text": [
      "{1, 3, 4, 5, 6, 7, 9}\n"
     ]
    }
   ],
   "source": [
    "set_1 = {4,5,9,7,6,3,1}\n",
    "print(set_1)"
   ]
  },
  {
   "cell_type": "code",
   "execution_count": 27,
   "id": "7aaa5ec5-6b37-483f-8832-ff24c530098e",
   "metadata": {},
   "outputs": [
    {
     "data": {
      "text/plain": [
       "{0, 1, 3, 4, 5, 6, 7, 9}"
      ]
     },
     "execution_count": 27,
     "metadata": {},
     "output_type": "execute_result"
    }
   ],
   "source": [
    "set_1.add(0)\n",
    "set_1"
   ]
  },
  {
   "cell_type": "code",
   "execution_count": 29,
   "id": "54db1933-2bd5-4aa1-84c0-1ebac4556d0b",
   "metadata": {},
   "outputs": [],
   "source": [
    "set1 = {\"Avenger\", \"IronMan\", \"Hitman\"}\n",
    "set2= {\"Avenger\",\"IronMan\", \"Hitman\", \"Hulk\"}"
   ]
  },
  {
   "cell_type": "code",
   "execution_count": 30,
   "id": "2ee1c210-79a3-4ea1-8bbc-93899a2532f1",
   "metadata": {},
   "outputs": [
    {
     "data": {
      "text/plain": [
       "{'Avenger', 'Hitman', 'IronMan'}"
      ]
     },
     "execution_count": 30,
     "metadata": {},
     "output_type": "execute_result"
    }
   ],
   "source": [
    "set2.intersection(set1)"
   ]
  },
  {
   "cell_type": "code",
   "execution_count": 31,
   "id": "22db2645-2ed9-4a33-87fd-1f342fd7a681",
   "metadata": {},
   "outputs": [
    {
     "data": {
      "text/plain": [
       "{'Avenger', 'Hitman', 'Hulk', 'IronMan'}"
      ]
     },
     "execution_count": 31,
     "metadata": {},
     "output_type": "execute_result"
    }
   ],
   "source": [
    "set2.union(set1)"
   ]
  },
  {
   "cell_type": "code",
   "execution_count": 32,
   "id": "83cd7bc5-1b65-4fcf-b356-b6a3e3be62f7",
   "metadata": {},
   "outputs": [
    {
     "data": {
      "text/plain": [
       "True"
      ]
     },
     "execution_count": 32,
     "metadata": {},
     "output_type": "execute_result"
    }
   ],
   "source": [
    "set1.issubset(set2)"
   ]
  },
  {
   "cell_type": "code",
   "execution_count": 33,
   "id": "a9abf22c-a39b-4f67-a310-757fb183dd22",
   "metadata": {},
   "outputs": [
    {
     "data": {
      "text/plain": [
       "{'Hulk'}"
      ]
     },
     "execution_count": 33,
     "metadata": {},
     "output_type": "execute_result"
    }
   ],
   "source": [
    "set2.difference(set1)"
   ]
  },
  {
   "cell_type": "code",
   "execution_count": 34,
   "id": "a2eb8465-29e7-45df-a6fb-825a302ab60f",
   "metadata": {},
   "outputs": [
    {
     "data": {
      "text/plain": [
       "True"
      ]
     },
     "execution_count": 34,
     "metadata": {},
     "output_type": "execute_result"
    }
   ],
   "source": [
    "set2.issuperset(set1)"
   ]
  },
  {
   "cell_type": "markdown",
   "id": "24439e88-5b2b-49b6-a97e-9d6188cd2152",
   "metadata": {},
   "source": [
    "# Dictionary\n",
    "    A dictionary is a collection of which is unordered, changeable and indexed. In Python dictionaries are written with curly brackets,and they have keys and values.\n",
    "\n",
    "\n",
    "\n"
   ]
  },
  {
   "cell_type": "code",
   "execution_count": 36,
   "id": "1668120d-259e-4f81-971f-af3f0ab1f515",
   "metadata": {},
   "outputs": [
    {
     "data": {
      "text/plain": [
       "dict"
      ]
     },
     "execution_count": 36,
     "metadata": {},
     "output_type": "execute_result"
    }
   ],
   "source": [
    "type(dict())"
   ]
  },
  {
   "cell_type": "code",
   "execution_count": null,
   "id": "054f5b7d-d407-4140-8f5f-5e6e9ff250e4",
   "metadata": {},
   "outputs": [],
   "source": []
  },
  {
   "cell_type": "code",
   "execution_count": 50,
   "id": "a9798bc7-49f0-414a-8e12-c42ed60cff28",
   "metadata": {},
   "outputs": [],
   "source": [
    "my_dict = {\n",
    "    \"Name\" : \"Anand\",\n",
    "    \"Year\" : 2024\n",
    "}"
   ]
  },
  {
   "cell_type": "code",
   "execution_count": 51,
   "id": "03536e68-70e5-4f97-8d51-05b3e24fa371",
   "metadata": {},
   "outputs": [
    {
     "data": {
      "text/plain": [
       "{'Name': 'Anand', 'Year': 2024}"
      ]
     },
     "execution_count": 51,
     "metadata": {},
     "output_type": "execute_result"
    }
   ],
   "source": [
    "my_dict"
   ]
  },
  {
   "cell_type": "code",
   "execution_count": 52,
   "id": "7e795708-908c-4de8-a64d-f2f3a6b58fad",
   "metadata": {},
   "outputs": [
    {
     "data": {
      "text/plain": [
       "'Anand'"
      ]
     },
     "execution_count": 52,
     "metadata": {},
     "output_type": "execute_result"
    }
   ],
   "source": [
    "my_dict[\"Name\"]"
   ]
  },
  {
   "cell_type": "code",
   "execution_count": 53,
   "id": "e7b5aa08-0bba-4588-8091-edf4bb72cb30",
   "metadata": {},
   "outputs": [
    {
     "data": {
      "text/plain": [
       "dict_items([('Name', 'Anand'), ('Year', 2024)])"
      ]
     },
     "execution_count": 53,
     "metadata": {},
     "output_type": "execute_result"
    }
   ],
   "source": [
    "my_dict.items()"
   ]
  },
  {
   "cell_type": "code",
   "execution_count": 54,
   "id": "a1db4455-5540-4436-9e52-aa063a940df9",
   "metadata": {},
   "outputs": [
    {
     "data": {
      "text/plain": [
       "dict_keys(['Name', 'Year'])"
      ]
     },
     "execution_count": 54,
     "metadata": {},
     "output_type": "execute_result"
    }
   ],
   "source": [
    "my_dict.keys()"
   ]
  },
  {
   "cell_type": "code",
   "execution_count": 55,
   "id": "13665ecc-b1e7-40f9-b9ad-b6dc70169398",
   "metadata": {},
   "outputs": [
    {
     "data": {
      "text/plain": [
       "dict_values(['Anand', 2024])"
      ]
     },
     "execution_count": 55,
     "metadata": {},
     "output_type": "execute_result"
    }
   ],
   "source": [
    "my_dict.values()"
   ]
  },
  {
   "cell_type": "code",
   "execution_count": 56,
   "id": "3ae8b0a0-e61d-43e7-bfa5-1911707c3b95",
   "metadata": {},
   "outputs": [
    {
     "name": "stdout",
     "output_type": "stream",
     "text": [
      "Name\n",
      "Year\n"
     ]
    }
   ],
   "source": [
    "for x in my_dict:\n",
    "    print(x)"
   ]
  },
  {
   "cell_type": "code",
   "execution_count": 57,
   "id": "16c13154-a245-463a-9053-29baace6a95e",
   "metadata": {},
   "outputs": [
    {
     "name": "stdout",
     "output_type": "stream",
     "text": [
      "Anand\n",
      "2024\n"
     ]
    }
   ],
   "source": [
    "for x in my_dict.values():\n",
    "    print(x)"
   ]
  },
  {
   "cell_type": "code",
   "execution_count": 58,
   "id": "6e4411f6-16b0-494f-877c-69ca7c571bd1",
   "metadata": {},
   "outputs": [],
   "source": [
    "my_dict[\"Branch\"] = \"Information Technology\""
   ]
  },
  {
   "cell_type": "code",
   "execution_count": 59,
   "id": "1d26acc5-9dce-4adf-a80e-a34446e6fd09",
   "metadata": {},
   "outputs": [
    {
     "data": {
      "text/plain": [
       "{'Name': 'Anand', 'Year': 2024, 'Branch': 'Information Technology'}"
      ]
     },
     "execution_count": 59,
     "metadata": {},
     "output_type": "execute_result"
    }
   ],
   "source": [
    "my_dict"
   ]
  },
  {
   "cell_type": "markdown",
   "id": "0bdf8cd2-0e10-4002-8954-a712fb06cdd6",
   "metadata": {},
   "source": [
    "# Nested dictionary"
   ]
  },
  {
   "cell_type": "code",
   "execution_count": 61,
   "id": "63da89df-d3f7-4924-9644-4f5f94137597",
   "metadata": {},
   "outputs": [],
   "source": [
    "car1_model = {'Mercedes' : 1960}\n",
    "car2_model = {'Audi' : 1960}\n",
    "car3_model = {'Ambassador' : 1960}\n",
    "\n",
    "car_type = {'car1' : car1_model, 'car2' : car2_model,'car3' : car3_model}"
   ]
  },
  {
   "cell_type": "code",
   "execution_count": 62,
   "id": "93b4a097-a84e-4ef4-a2fb-d6e0be4ffe15",
   "metadata": {},
   "outputs": [
    {
     "data": {
      "text/plain": [
       "{'car1': {'Mercedes': 1960},\n",
       " 'car2': {'Audi': 1960},\n",
       " 'car3': {'Ambassador': 1960}}"
      ]
     },
     "execution_count": 62,
     "metadata": {},
     "output_type": "execute_result"
    }
   ],
   "source": [
    "car_type"
   ]
  },
  {
   "cell_type": "code",
   "execution_count": 63,
   "id": "e012658c-a76c-4c12-bf7d-c1a2c372858c",
   "metadata": {},
   "outputs": [
    {
     "data": {
      "text/plain": [
       "1960"
      ]
     },
     "execution_count": 63,
     "metadata": {},
     "output_type": "execute_result"
    }
   ],
   "source": [
    "car_type['car1']['Mercedes']"
   ]
  },
  {
   "cell_type": "markdown",
   "id": "e9398773-2037-42aa-a72b-7680ae0a0a8b",
   "metadata": {},
   "source": [
    "# Tuples\n"
   ]
  },
  {
   "cell_type": "code",
   "execution_count": 72,
   "id": "96cbf0b5-8fa2-44e7-acba-8aeea30f702e",
   "metadata": {},
   "outputs": [],
   "source": [
    "my_tuple = tuple(['Hello', 'World'])"
   ]
  },
  {
   "cell_type": "code",
   "execution_count": 73,
   "id": "9084c294-f2d3-4aef-a567-eac0da9b84d1",
   "metadata": {},
   "outputs": [
    {
     "data": {
      "text/plain": [
       "tuple"
      ]
     },
     "execution_count": 73,
     "metadata": {},
     "output_type": "execute_result"
    }
   ],
   "source": [
    "type(my_tuple)"
   ]
  },
  {
   "cell_type": "code",
   "execution_count": 74,
   "id": "851d669c-c794-4f89-bdb7-edebbcddcb10",
   "metadata": {},
   "outputs": [
    {
     "data": {
      "text/plain": [
       "1"
      ]
     },
     "execution_count": 74,
     "metadata": {},
     "output_type": "execute_result"
    }
   ],
   "source": [
    "my_tuple.count(\"World\")"
   ]
  },
  {
   "cell_type": "code",
   "execution_count": 75,
   "id": "a379f05e-22e1-4ee7-a49b-5846ba97aba6",
   "metadata": {},
   "outputs": [
    {
     "data": {
      "text/plain": [
       "'Hello'"
      ]
     },
     "execution_count": 75,
     "metadata": {},
     "output_type": "execute_result"
    }
   ],
   "source": [
    "my_tuple[0]"
   ]
  },
  {
   "cell_type": "code",
   "execution_count": null,
   "id": "d0bffb16-8428-4bff-bfbf-f415a237f575",
   "metadata": {},
   "outputs": [],
   "source": []
  },
  {
   "cell_type": "code",
   "execution_count": null,
   "id": "8d5cb51d-2b97-4c53-8fa5-c075444f2abb",
   "metadata": {},
   "outputs": [],
   "source": []
  },
  {
   "cell_type": "code",
   "execution_count": null,
   "id": "3127fde5-fa5b-4027-951e-e2ceed351ac5",
   "metadata": {},
   "outputs": [],
   "source": []
  },
  {
   "cell_type": "code",
   "execution_count": null,
   "id": "89d4657e-51a3-4e3f-a546-7077c0eec9f0",
   "metadata": {},
   "outputs": [],
   "source": []
  },
  {
   "cell_type": "code",
   "execution_count": null,
   "id": "e11ac137-d526-43a0-8201-677289c801fa",
   "metadata": {},
   "outputs": [],
   "source": []
  },
  {
   "cell_type": "code",
   "execution_count": null,
   "id": "5d183c82-d528-4853-889b-689999964f68",
   "metadata": {},
   "outputs": [],
   "source": []
  },
  {
   "cell_type": "code",
   "execution_count": null,
   "id": "53b7435d-03bf-4fa4-847d-4e061f8a577f",
   "metadata": {},
   "outputs": [],
   "source": []
  },
  {
   "cell_type": "code",
   "execution_count": null,
   "id": "f6a8d83a-3fbc-4edd-9006-a95b0ff748fd",
   "metadata": {},
   "outputs": [],
   "source": []
  },
  {
   "cell_type": "code",
   "execution_count": null,
   "id": "b01a41d0-f7f9-48c4-a53e-cbe3b7698bf8",
   "metadata": {},
   "outputs": [],
   "source": []
  },
  {
   "cell_type": "code",
   "execution_count": null,
   "id": "135a4ad6-9ccc-4cc8-9312-9a0e0843c1df",
   "metadata": {},
   "outputs": [],
   "source": []
  },
  {
   "cell_type": "code",
   "execution_count": null,
   "id": "0ebb291e-39d5-41a3-913b-fa69818f54a8",
   "metadata": {},
   "outputs": [],
   "source": []
  },
  {
   "cell_type": "code",
   "execution_count": null,
   "id": "991f5629-6e35-4179-bcfa-2d45aadeac55",
   "metadata": {},
   "outputs": [],
   "source": []
  }
 ],
 "metadata": {
  "kernelspec": {
   "display_name": "Python 3 (ipykernel)",
   "language": "python",
   "name": "python3"
  },
  "language_info": {
   "codemirror_mode": {
    "name": "ipython",
    "version": 3
   },
   "file_extension": ".py",
   "mimetype": "text/x-python",
   "name": "python",
   "nbconvert_exporter": "python",
   "pygments_lexer": "ipython3",
   "version": "3.12.0"
  }
 },
 "nbformat": 4,
 "nbformat_minor": 5
}
