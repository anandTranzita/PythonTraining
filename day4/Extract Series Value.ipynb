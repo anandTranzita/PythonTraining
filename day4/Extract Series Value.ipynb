{
 "cells": [
  {
   "cell_type": "markdown",
   "id": "b44e7a74-14e0-4004-a75f-5807bcf248ff",
   "metadata": {},
   "source": [
    "# Extract Series Values"
   ]
  },
  {
   "cell_type": "code",
   "execution_count": 1,
   "id": "04b52314-fc08-41e0-864c-a332c755f2d3",
   "metadata": {},
   "outputs": [],
   "source": [
    "import pandas as pd"
   ]
  },
  {
   "cell_type": "code",
   "execution_count": 4,
   "id": "f38288b4-1926-478b-8c3b-110db47a9cb0",
   "metadata": {},
   "outputs": [
    {
     "data": {
      "text/plain": [
       "Name\n",
       "Bulbasaur          Grass, Poison\n",
       "Ivysaur            Grass, Poison\n",
       "Venusaur           Grass, Poison\n",
       "Charmander                  Fire\n",
       "Charmeleon                  Fire\n",
       "                      ...       \n",
       "Iron Valiant     Fairy, Fighting\n",
       "Koraidon        Fighting, Dragon\n",
       "Miraidon        Electric, Dragon\n",
       "Walking Wake       Water, Dragon\n",
       "Iron Leaves       Grass, Psychic\n",
       "Name: Type, Length: 1010, dtype: object"
      ]
     },
     "execution_count": 4,
     "metadata": {},
     "output_type": "execute_result"
    }
   ],
   "source": [
    "pokemon = pd.read_csv('pokemon.csv',index_col=[\"Name\"]).squeeze(\"columns\")\n",
    "pokemon"
   ]
  },
  {
   "cell_type": "code",
   "execution_count": 9,
   "id": "dcd15863-d491-4dd5-b68c-a7cf617b25cd",
   "metadata": {},
   "outputs": [
    {
     "data": {
      "text/plain": [
       "Name\n",
       "Zoroark               Dark\n",
       "Zorua                 Dark\n",
       "Zubat       Poison, Flying\n",
       "Zweilous      Dark, Dragon\n",
       "Zygarde     Dragon, Ground\n",
       "Name: Type, dtype: object"
      ]
     },
     "execution_count": 9,
     "metadata": {},
     "output_type": "execute_result"
    }
   ],
   "source": [
    "pokemon.sort_index().tail()"
   ]
  },
  {
   "cell_type": "code",
   "execution_count": 8,
   "id": "e42c8954-712d-436a-8b96-3318e5544fe3",
   "metadata": {},
   "outputs": [
    {
     "data": {
      "text/plain": [
       "Name\n",
       "Aegislash    Steel, Ghost\n",
       "Accelgor              Bug\n",
       "Absol                Dark\n",
       "Abra              Psychic\n",
       "Abomasnow      Grass, Ice\n",
       "Name: Type, dtype: object"
      ]
     },
     "execution_count": 8,
     "metadata": {},
     "output_type": "execute_result"
    }
   ],
   "source": [
    "pokemon.sort_index(ascending = False).tail()"
   ]
  },
  {
   "cell_type": "markdown",
   "id": "75844a3e-0d41-4196-bb93-a370e1b9f0c0",
   "metadata": {},
   "source": [
    "\n",
    "# Extract Series value by Index Position \n"
   ]
  },
  {
   "cell_type": "code",
   "execution_count": 12,
   "id": "4c3f76a3-7f9d-443e-bfb8-4d4b932c6bac",
   "metadata": {},
   "outputs": [
    {
     "data": {
      "text/plain": [
       "0     Bulbasaur\n",
       "1       Ivysaur\n",
       "2      Venusaur\n",
       "3    Charmander\n",
       "4    Charmeleon\n",
       "Name: Name, dtype: object"
      ]
     },
     "execution_count": 12,
     "metadata": {},
     "output_type": "execute_result"
    }
   ],
   "source": [
    "pokemon = pd.read_csv(\"pokemon.csv\",usecols = ['Name']).squeeze(\"columns\")\n",
    "pokemon.head()"
   ]
  },
  {
   "cell_type": "code",
   "execution_count": 13,
   "id": "48299def-1763-4f0a-aea5-a82f1677a4f5",
   "metadata": {},
   "outputs": [
    {
     "data": {
      "text/plain": [
       "'Bulbasaur'"
      ]
     },
     "execution_count": 13,
     "metadata": {},
     "output_type": "execute_result"
    }
   ],
   "source": [
    "pokemon.iloc[0]\n"
   ]
  },
  {
   "cell_type": "code",
   "execution_count": 14,
   "id": "442c474b-0291-467e-bdbc-ba54d5d541d4",
   "metadata": {},
   "outputs": [
    {
     "data": {
      "text/plain": [
       "'Oshawott'"
      ]
     },
     "execution_count": 14,
     "metadata": {},
     "output_type": "execute_result"
    }
   ],
   "source": [
    "pokemon.iloc[500]"
   ]
  },
  {
   "cell_type": "code",
   "execution_count": 16,
   "id": "243b4796-c9fb-4ca0-be9a-0c6c432ca4fb",
   "metadata": {},
   "outputs": [
    {
     "data": {
      "text/plain": [
       "0      Bulbasaur\n",
       "100    Electrode\n",
       "200        Unown\n",
       "300     Delcatty\n",
       "Name: Name, dtype: object"
      ]
     },
     "execution_count": 16,
     "metadata": {},
     "output_type": "execute_result"
    }
   ],
   "source": [
    "pokemon.iloc[[0,100,200,300]]"
   ]
  },
  {
   "cell_type": "code",
   "execution_count": 17,
   "id": "7ab88fda-ec62-4573-bf5c-3a39942c634d",
   "metadata": {},
   "outputs": [
    {
     "data": {
      "text/plain": [
       "0     Bulbasaur\n",
       "1       Ivysaur\n",
       "2      Venusaur\n",
       "3    Charmander\n",
       "4    Charmeleon\n",
       "5     Charizard\n",
       "Name: Name, dtype: object"
      ]
     },
     "execution_count": 17,
     "metadata": {},
     "output_type": "execute_result"
    }
   ],
   "source": [
    "pokemon.iloc[0:6]"
   ]
  },
  {
   "cell_type": "code",
   "execution_count": 21,
   "id": "2e3ca3db-2504-48d6-bda3-af6a2cc998bb",
   "metadata": {},
   "outputs": [
    {
     "data": {
      "text/plain": [
       "Name\n",
       "Bulbasaur          Grass, Poison\n",
       "Ivysaur            Grass, Poison\n",
       "Venusaur           Grass, Poison\n",
       "Charmander                  Fire\n",
       "Charmeleon                  Fire\n",
       "                      ...       \n",
       "Iron Valiant     Fairy, Fighting\n",
       "Koraidon        Fighting, Dragon\n",
       "Miraidon        Electric, Dragon\n",
       "Walking Wake       Water, Dragon\n",
       "Iron Leaves       Grass, Psychic\n",
       "Name: Type, Length: 1010, dtype: object"
      ]
     },
     "execution_count": 21,
     "metadata": {},
     "output_type": "execute_result"
    }
   ],
   "source": [
    "pokemon = pd.read_csv(\"pokemon.csv\", index_col = \"Name\").squeeze(\"columns\")\n",
    "pokemon"
   ]
  },
  {
   "cell_type": "code",
   "execution_count": 22,
   "id": "3aa6dca9-a58d-4c5d-bade-7dcd57d556be",
   "metadata": {},
   "outputs": [
    {
     "data": {
      "text/plain": [
       "'Grass, Poison'"
      ]
     },
     "execution_count": 22,
     "metadata": {},
     "output_type": "execute_result"
    }
   ],
   "source": [
    "pokemon.loc[\"Bulbasaur\"]"
   ]
  },
  {
   "cell_type": "code",
   "execution_count": 23,
   "id": "09e164a7-7036-4fe2-a44a-98dad366a2ae",
   "metadata": {},
   "outputs": [
    {
     "data": {
      "text/plain": [
       "'Fairy, Fighting'"
      ]
     },
     "execution_count": 23,
     "metadata": {},
     "output_type": "execute_result"
    }
   ],
   "source": [
    "pokemon.loc[\"Iron Valiant\"]"
   ]
  },
  {
   "cell_type": "code",
   "execution_count": 24,
   "id": "86144a51-5b28-47cf-8c33-1595175ab7dd",
   "metadata": {},
   "outputs": [
    {
     "data": {
      "text/plain": [
       "Name\n",
       "Mewtwo                  Psychic\n",
       "Charizard          Fire, Flying\n",
       "Iron Valiant    Fairy, Fighting\n",
       "Name: Type, dtype: object"
      ]
     },
     "execution_count": 24,
     "metadata": {},
     "output_type": "execute_result"
    }
   ],
   "source": [
    "pokemon.loc[[\"Mewtwo\",\"Charizard\",\"Iron Valiant\"]]"
   ]
  },
  {
   "cell_type": "markdown",
   "id": "93195899-a18a-40f9-91f7-e908722e5bbb",
   "metadata": {},
   "source": [
    "#  Get Method on a Series"
   ]
  },
  {
   "cell_type": "code",
   "execution_count": 25,
   "id": "1638874d-2345-4ce2-b6c7-9540982573ec",
   "metadata": {},
   "outputs": [
    {
     "data": {
      "text/plain": [
       "Name\n",
       "Bulbasaur          Grass, Poison\n",
       "Ivysaur            Grass, Poison\n",
       "Venusaur           Grass, Poison\n",
       "Charmander                  Fire\n",
       "Charmeleon                  Fire\n",
       "                      ...       \n",
       "Iron Valiant     Fairy, Fighting\n",
       "Koraidon        Fighting, Dragon\n",
       "Miraidon        Electric, Dragon\n",
       "Walking Wake       Water, Dragon\n",
       "Iron Leaves       Grass, Psychic\n",
       "Name: Type, Length: 1010, dtype: object"
      ]
     },
     "execution_count": 25,
     "metadata": {},
     "output_type": "execute_result"
    }
   ],
   "source": [
    "pokemon = pd.read_csv(\"pokemon.csv\", index_col = [\"Name\"]).squeeze(\"columns\")\n",
    "pokemon"
   ]
  },
  {
   "cell_type": "code",
   "execution_count": 35,
   "id": "821d4988-442a-43f2-b452-cffc823feabf",
   "metadata": {},
   "outputs": [
    {
     "data": {
      "text/plain": [
       "'Grass, Poison'"
      ]
     },
     "execution_count": 35,
     "metadata": {},
     "output_type": "execute_result"
    }
   ],
   "source": [
    "pokemon.get(\"Bulbasaur\")"
   ]
  },
  {
   "cell_type": "code",
   "execution_count": 37,
   "id": "43548a31-98a8-4ab9-9be1-117a0139703d",
   "metadata": {},
   "outputs": [],
   "source": [
    "pokemon.get(\"zys\")"
   ]
  },
  {
   "cell_type": "code",
   "execution_count": 39,
   "id": "8f0e1ff0-fbe9-4d23-bb99-3941bdb530e1",
   "metadata": {},
   "outputs": [
    {
     "data": {
      "text/plain": [
       "'One of the values in the list was not found'"
      ]
     },
     "execution_count": 39,
     "metadata": {},
     "output_type": "execute_result"
    }
   ],
   "source": [
    "pokemon.get([\"Moltres\",\"Digimon\"],\"One of the values in the list was not found\")"
   ]
  },
  {
   "cell_type": "code",
   "execution_count": 41,
   "id": "d2bfb3e4-52e8-4c54-8578-f00bfee212fa",
   "metadata": {
    "scrolled": true
   },
   "outputs": [
    {
     "data": {
      "text/plain": [
       "0          Bulbasaur\n",
       "1            Ivysaur\n",
       "2           Venusaur\n",
       "3         Charmander\n",
       "4         Charmeleon\n",
       "            ...     \n",
       "1005    Iron Valiant\n",
       "1006        Koraidon\n",
       "1007        Miraidon\n",
       "1008    Walking Wake\n",
       "1009     Iron Leaves\n",
       "Name: Name, Length: 1010, dtype: object"
      ]
     },
     "execution_count": 41,
     "metadata": {},
     "output_type": "execute_result"
    }
   ],
   "source": [
    "pokemon = pd.read_csv(\"pokemon.csv\", usecols = [\"Name\"]).squeeze(\"columns\")\n",
    "pokemon"
   ]
  },
  {
   "cell_type": "code",
   "execution_count": 43,
   "id": "76bc83f6-b25e-4af9-a239-0be7f0c1e78a",
   "metadata": {},
   "outputs": [
    {
     "data": {
      "text/plain": [
       "0     Bulbasaur\n",
       "1       Ivysaur\n",
       "2      Venusaur\n",
       "3    Charmander\n",
       "4    Charmeleon\n",
       "Name: Name, dtype: object"
      ]
     },
     "execution_count": 43,
     "metadata": {},
     "output_type": "execute_result"
    }
   ],
   "source": [
    "pokemon.head()"
   ]
  },
  {
   "cell_type": "code",
   "execution_count": 44,
   "id": "4be6f4c4-ef05-4d70-a3f0-1654fd0d75ac",
   "metadata": {},
   "outputs": [],
   "source": [
    "pokemon[0] = \"Borisour\""
   ]
  },
  {
   "cell_type": "code",
   "execution_count": 45,
   "id": "eec67845-2eae-44e6-a187-a4b99e0b0bd9",
   "metadata": {},
   "outputs": [
    {
     "data": {
      "text/plain": [
       "0      Borisour\n",
       "1       Ivysaur\n",
       "2      Venusaur\n",
       "3    Charmander\n",
       "4    Charmeleon\n",
       "Name: Name, dtype: object"
      ]
     },
     "execution_count": 45,
     "metadata": {},
     "output_type": "execute_result"
    }
   ],
   "source": [
    "pokemon.head()"
   ]
  },
  {
   "cell_type": "code",
   "execution_count": 47,
   "id": "dfe63771-a4a2-4836-aa9a-ada3c6bbc5c6",
   "metadata": {},
   "outputs": [],
   "source": [
    "pokemon[[1,2,3]] = [\"Firemon\", \"Flaemon\", \"LaMon\"]"
   ]
  },
  {
   "cell_type": "code",
   "execution_count": 48,
   "id": "ce3a0fdc-e3f8-4445-8d0b-9c6e1e787c0c",
   "metadata": {},
   "outputs": [
    {
     "data": {
      "text/plain": [
       "0      Borisour\n",
       "1       Firemon\n",
       "2       Flaemon\n",
       "3         LaMon\n",
       "4    Charmeleon\n",
       "Name: Name, dtype: object"
      ]
     },
     "execution_count": 48,
     "metadata": {},
     "output_type": "execute_result"
    }
   ],
   "source": [
    "pokemon.head()"
   ]
  },
  {
   "cell_type": "code",
   "execution_count": 49,
   "id": "32923172-8161-4a8e-b4f9-1276c6597d7b",
   "metadata": {},
   "outputs": [
    {
     "data": {
      "text/plain": [
       "Name\n",
       "Bulbasaur          Grass, Poison\n",
       "Ivysaur            Grass, Poison\n",
       "Venusaur           Grass, Poison\n",
       "Charmander                  Fire\n",
       "Charmeleon                  Fire\n",
       "                      ...       \n",
       "Iron Valiant     Fairy, Fighting\n",
       "Koraidon        Fighting, Dragon\n",
       "Miraidon        Electric, Dragon\n",
       "Walking Wake       Water, Dragon\n",
       "Iron Leaves       Grass, Psychic\n",
       "Name: Type, Length: 1010, dtype: object"
      ]
     },
     "execution_count": 49,
     "metadata": {},
     "output_type": "execute_result"
    }
   ],
   "source": [
    "\n",
    "pokemon = pd.read_csv(\"pokemon.csv\", index_col = \"Name\").squeeze(\"columns\")\n",
    "pokemon"
   ]
  },
  {
   "cell_type": "code",
   "execution_count": 52,
   "id": "5fc889b5-2942-4e99-a8a8-717fe7ab31a6",
   "metadata": {},
   "outputs": [],
   "source": [
    "pokemon.loc[\"Bulbasaur\"] = \"Awesomeness\""
   ]
  },
  {
   "cell_type": "code",
   "execution_count": 53,
   "id": "ac37c925-bb12-4ec5-98be-38bef14dc494",
   "metadata": {},
   "outputs": [
    {
     "data": {
      "text/plain": [
       "Name\n",
       "Bulbasaur       Awesomeness\n",
       "Ivysaur       Grass, Poison\n",
       "Venusaur      Grass, Poison\n",
       "Charmander             Fire\n",
       "Charmeleon             Fire\n",
       "Name: Type, dtype: object"
      ]
     },
     "execution_count": 53,
     "metadata": {},
     "output_type": "execute_result"
    }
   ],
   "source": [
    "pokemon.head()"
   ]
  },
  {
   "cell_type": "code",
   "execution_count": 54,
   "id": "6c45fea6-bed5-4449-850a-bb3a6be680cd",
   "metadata": {},
   "outputs": [],
   "source": [
    "pokemon.iloc[1] = \"Silly\""
   ]
  },
  {
   "cell_type": "code",
   "execution_count": 56,
   "id": "df0da339-0eb6-4fe6-b305-22b65cf2e4a6",
   "metadata": {},
   "outputs": [
    {
     "data": {
      "text/plain": [
       "Name\n",
       "Bulbasaur       Awesomeness\n",
       "Ivysaur               Silly\n",
       "Venusaur      Grass, Poison\n",
       "Charmander             Fire\n",
       "Charmeleon             Fire\n",
       "Name: Type, dtype: object"
      ]
     },
     "execution_count": 56,
     "metadata": {},
     "output_type": "execute_result"
    }
   ],
   "source": [
    "pokemon.head()"
   ]
  },
  {
   "cell_type": "code",
   "execution_count": null,
   "id": "40b0522f-8083-4b9e-a161-d5abb711b108",
   "metadata": {},
   "outputs": [],
   "source": [
    "pokemon[]"
   ]
  }
 ],
 "metadata": {
  "kernelspec": {
   "display_name": "Python 3 (ipykernel)",
   "language": "python",
   "name": "python3"
  },
  "language_info": {
   "codemirror_mode": {
    "name": "ipython",
    "version": 3
   },
   "file_extension": ".py",
   "mimetype": "text/x-python",
   "name": "python",
   "nbconvert_exporter": "python",
   "pygments_lexer": "ipython3",
   "version": "3.12.0"
  }
 },
 "nbformat": 4,
 "nbformat_minor": 5
}
