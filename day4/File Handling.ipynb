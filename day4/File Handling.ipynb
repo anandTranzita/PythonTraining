{
 "cells": [
  {
   "cell_type": "markdown",
   "id": "2f2232e0-3931-4ea5-aa28-9efcf1efb1c3",
   "metadata": {},
   "source": [
    "# working with file in OS"
   ]
  },
  {
   "cell_type": "code",
   "execution_count": 1,
   "id": "7b0dff56-400a-4783-91bc-4efe7f0d9025",
   "metadata": {},
   "outputs": [],
   "source": [
    "import os"
   ]
  },
  {
   "cell_type": "code",
   "execution_count": 2,
   "id": "0960c8e9-015a-4a0d-997d-a9ea07fbdd5a",
   "metadata": {},
   "outputs": [
    {
     "data": {
      "text/plain": [
       "'F:\\\\PythonTraining\\\\day4'"
      ]
     },
     "execution_count": 2,
     "metadata": {},
     "output_type": "execute_result"
    }
   ],
   "source": [
    "os.getcwd()"
   ]
  },
  {
   "cell_type": "code",
   "execution_count": 3,
   "id": "c9ff26eb-b844-409d-a881-dfd3b29bade2",
   "metadata": {},
   "outputs": [
    {
     "data": {
      "text/plain": [
       "['.ipynb_checkpoints',\n",
       " 'Data frame.ipynb',\n",
       " 'Untitled.ipynb',\n",
       " 'weather_data.csv']"
      ]
     },
     "execution_count": 3,
     "metadata": {},
     "output_type": "execute_result"
    }
   ],
   "source": [
    "os.listdir('.')"
   ]
  },
  {
   "cell_type": "code",
   "execution_count": 4,
   "id": "ca2359f4-c040-415d-a0ab-b188e82e2381",
   "metadata": {},
   "outputs": [
    {
     "data": {
      "text/plain": [
       "['$RECYCLE.BIN', 'Notes', 'PythonTraining', 'System Volume Information']"
      ]
     },
     "execution_count": 4,
     "metadata": {},
     "output_type": "execute_result"
    }
   ],
   "source": [
    "os.listdir('/')"
   ]
  },
  {
   "cell_type": "code",
   "execution_count": 6,
   "id": "ea9881f6-1903-473f-ab51-f59bb271642a",
   "metadata": {},
   "outputs": [
    {
     "data": {
      "text/plain": [
       "['.ipynb_checkpoints',\n",
       " 'Data frame.ipynb',\n",
       " 'Untitled.ipynb',\n",
       " 'weather_data.csv']"
      ]
     },
     "execution_count": 6,
     "metadata": {},
     "output_type": "execute_result"
    }
   ],
   "source": [
    "os.listdir('.')"
   ]
  },
  {
   "cell_type": "code",
   "execution_count": 8,
   "id": "d91cbe9d-4463-4cba-8b31-46b6bd03c8f6",
   "metadata": {},
   "outputs": [],
   "source": [
    "os.makedirs('./data', exist_ok = True)"
   ]
  },
  {
   "cell_type": "code",
   "execution_count": 9,
   "id": "dc487455-5788-40b6-b420-7da6b6f6f720",
   "metadata": {},
   "outputs": [
    {
     "data": {
      "text/plain": [
       "[]"
      ]
     },
     "execution_count": 9,
     "metadata": {},
     "output_type": "execute_result"
    }
   ],
   "source": [
    "os.listdir('./data')"
   ]
  },
  {
   "cell_type": "code",
   "execution_count": 11,
   "id": "d7a0f306-ba3d-436c-a369-f6254118edb7",
   "metadata": {},
   "outputs": [
    {
     "data": {
      "text/plain": [
       "['.ipynb_checkpoints',\n",
       " 'data',\n",
       " 'Data frame.ipynb',\n",
       " 'Untitled.ipynb',\n",
       " 'weather_data.csv']"
      ]
     },
     "execution_count": 11,
     "metadata": {},
     "output_type": "execute_result"
    }
   ],
   "source": [
    "os.listdir('.')"
   ]
  },
  {
   "cell_type": "code",
   "execution_count": 15,
   "id": "e7e43b69-ffa4-46fa-a0fb-d98115ca0164",
   "metadata": {},
   "outputs": [
    {
     "data": {
      "text/plain": [
       "True"
      ]
     },
     "execution_count": 15,
     "metadata": {},
     "output_type": "execute_result"
    }
   ],
   "source": [
    "'data' in os.listdir('.')"
   ]
  },
  {
   "cell_type": "code",
   "execution_count": 19,
   "id": "f6c2af2c-cc94-469a-b269-2f20b59ecaf4",
   "metadata": {},
   "outputs": [],
   "source": [
    "file1 = open('./data/a.txt',mode = 'r')"
   ]
  },
  {
   "cell_type": "code",
   "execution_count": 21,
   "id": "f144925d-6317-4c08-bcf2-db1b45470f94",
   "metadata": {},
   "outputs": [
    {
     "data": {
      "text/plain": [
       "'flfjdjfjdsfd dkfjdsfljdljf flksdfjdsjfjdf fkldfd jf '"
      ]
     },
     "execution_count": 21,
     "metadata": {},
     "output_type": "execute_result"
    }
   ],
   "source": [
    "file1.read()"
   ]
  },
  {
   "cell_type": "code",
   "execution_count": 22,
   "id": "5942b857-67c9-4647-b548-26d2d4fca9bf",
   "metadata": {},
   "outputs": [],
   "source": [
    "file1.close()"
   ]
  },
  {
   "cell_type": "code",
   "execution_count": 24,
   "id": "5d763c1f-b8db-4ecb-88ae-379e09124c5f",
   "metadata": {},
   "outputs": [
    {
     "name": "stdout",
     "output_type": "stream",
     "text": [
      "abcdefghijklmnopqrstuvwxyz\n"
     ]
    }
   ],
   "source": [
    "with open('./data/b.txt') as file2:\n",
    "    file2_contents = file2.read()\n",
    "    print(file2_contents)"
   ]
  },
  {
   "cell_type": "code",
   "execution_count": 26,
   "id": "977642f2-abf1-4a12-a42e-9873df8c50a5",
   "metadata": {},
   "outputs": [
    {
     "name": "stdout",
     "output_type": "stream",
     "text": [
      "flfjdjfjdsfd dkfjdsfljdljf flksdfjdsjfjdf fkldfd jf \n"
     ]
    }
   ],
   "source": [
    "with open('./data/a.txt') as file:\n",
    "    file_content = file.read()\n",
    "    print(file_content)"
   ]
  },
  {
   "cell_type": "code",
   "execution_count": 27,
   "id": "3d558e75-14c8-4a8a-8f49-649bbc268aa3",
   "metadata": {},
   "outputs": [
    {
     "data": {
      "text/plain": [
       "['flfjdjfjdsfd dkfjdsfljdljf flksdfjdsjfjdf fkldfd jf ']"
      ]
     },
     "execution_count": 27,
     "metadata": {},
     "output_type": "execute_result"
    }
   ],
   "source": [
    "with open('./data/a.txt', 'r') as file1:\n",
    "    file1_lines = file1.readlines()\n",
    "file1_lines"
   ]
  },
  {
   "cell_type": "markdown",
   "id": "d231bb08-b2ec-4514-b108-7052c476979b",
   "metadata": {},
   "source": [
    "\n",
    "\n",
    "\n",
    "\n",
    "# Practice\n"
   ]
  },
  {
   "cell_type": "code",
   "execution_count": 36,
   "id": "3f994de8-6fe1-44c9-acd6-6287daad874b",
   "metadata": {},
   "outputs": [],
   "source": [
    "os.mkdir(\"dataFiles\")"
   ]
  },
  {
   "cell_type": "code",
   "execution_count": 39,
   "id": "79873d43-6276-4b3a-92a2-f50ff7f86466",
   "metadata": {},
   "outputs": [],
   "source": [
    "for i in range(0,30):\n",
    "    os.mkdir(f\"dataFiles/Day{i+1}\")"
   ]
  },
  {
   "cell_type": "code",
   "execution_count": 41,
   "id": "469244b5-89fd-4429-ab07-4ab3c80f50d6",
   "metadata": {},
   "outputs": [
    {
     "data": {
      "text/plain": [
       "['.ipynb_checkpoints',\n",
       " 'data',\n",
       " 'Data frame.ipynb',\n",
       " 'dataFiles',\n",
       " 'Untitled.ipynb',\n",
       " 'weather_data.csv']"
      ]
     },
     "execution_count": 41,
     "metadata": {},
     "output_type": "execute_result"
    }
   ],
   "source": [
    "os.listdir('.')"
   ]
  },
  {
   "cell_type": "code",
   "execution_count": 43,
   "id": "725b3535-92e9-410b-b7b8-f12b58e0ca58",
   "metadata": {},
   "outputs": [
    {
     "data": {
      "text/plain": [
       "['Day1',\n",
       " 'Day10',\n",
       " 'Day11',\n",
       " 'Day12',\n",
       " 'Day13',\n",
       " 'Day14',\n",
       " 'Day15',\n",
       " 'Day16',\n",
       " 'Day17',\n",
       " 'Day18',\n",
       " 'Day19',\n",
       " 'Day2',\n",
       " 'Day20',\n",
       " 'Day21',\n",
       " 'Day22',\n",
       " 'Day23',\n",
       " 'Day24',\n",
       " 'Day25',\n",
       " 'Day26',\n",
       " 'Day27',\n",
       " 'Day28',\n",
       " 'Day29',\n",
       " 'Day3',\n",
       " 'Day30',\n",
       " 'Day4',\n",
       " 'Day5',\n",
       " 'Day6',\n",
       " 'Day7',\n",
       " 'Day8',\n",
       " 'Day9']"
      ]
     },
     "execution_count": 43,
     "metadata": {},
     "output_type": "execute_result"
    }
   ],
   "source": [
    "os.listdir('./dataFiles')"
   ]
  },
  {
   "cell_type": "code",
   "execution_count": 44,
   "id": "ca49347f-4371-44ee-9104-d058d705edb7",
   "metadata": {},
   "outputs": [
    {
     "data": {
      "text/plain": [
       "'F:\\\\PythonTraining\\\\day4'"
      ]
     },
     "execution_count": 44,
     "metadata": {},
     "output_type": "execute_result"
    }
   ],
   "source": [
    "os.getcwd()"
   ]
  },
  {
   "cell_type": "code",
   "execution_count": null,
   "id": "b815800c-f09e-4e1e-8e4d-0278bf0f277e",
   "metadata": {},
   "outputs": [],
   "source": [
    " "
   ]
  }
 ],
 "metadata": {
  "kernelspec": {
   "display_name": "Python 3 (ipykernel)",
   "language": "python",
   "name": "python3"
  },
  "language_info": {
   "codemirror_mode": {
    "name": "ipython",
    "version": 3
   },
   "file_extension": ".py",
   "mimetype": "text/x-python",
   "name": "python",
   "nbconvert_exporter": "python",
   "pygments_lexer": "ipython3",
   "version": "3.12.0"
  }
 },
 "nbformat": 4,
 "nbformat_minor": 5
}
