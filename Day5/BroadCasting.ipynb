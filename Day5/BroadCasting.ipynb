{
 "cells": [
  {
   "cell_type": "markdown",
   "id": "035229c9-830a-4bcb-9795-3d89614635ab",
   "metadata": {},
   "source": [
    "# BroadCasting \n",
    "    -> Broadcasting describes the process of applying an airthmetic operation to an array\n",
    "    -> We can combine mathematical operators with series to apply the mathematical operation to every value"
   ]
  },
  {
   "cell_type": "code",
   "execution_count": 1,
   "id": "e972f003-e3ed-44ac-811f-b3caf4ad9fae",
   "metadata": {},
   "outputs": [],
   "source": [
    "import pandas as pd"
   ]
  },
  {
   "cell_type": "code",
   "execution_count": 4,
   "id": "fc76bd84-089c-41c3-b698-59e1c70f4807",
   "metadata": {},
   "outputs": [
    {
     "data": {
      "text/plain": [
       "0    2.490664\n",
       "1    2.515820\n",
       "2    2.758411\n",
       "3    2.770615\n",
       "4    2.614201\n",
       "Name: Price, dtype: float64"
      ]
     },
     "execution_count": 4,
     "metadata": {},
     "output_type": "execute_result"
    }
   ],
   "source": [
    "google = pd.read_csv('C:/Users/sharma/Desktop/pandas/pandas/Incomplete/google_stock_price.csv', usecols = ['Price']).squeeze()\n",
    "google.head()"
   ]
  },
  {
   "cell_type": "code",
   "execution_count": 5,
   "id": "6b384ef0-6dcc-43ab-8bd7-62e38eecf99d",
   "metadata": {},
   "outputs": [
    {
     "data": {
      "text/plain": [
       "0        12.490664\n",
       "1        12.515820\n",
       "2        12.758411\n",
       "3        12.770615\n",
       "4        12.614201\n",
       "           ...    \n",
       "4788    142.080002\n",
       "4789    142.998001\n",
       "4790    145.570007\n",
       "4791    147.050003\n",
       "4792    148.429993\n",
       "Name: Price, Length: 4793, dtype: float64"
      ]
     },
     "execution_count": 5,
     "metadata": {},
     "output_type": "execute_result"
    }
   ],
   "source": [
    "google.add(10)"
   ]
  },
  {
   "cell_type": "code",
   "execution_count": 6,
   "id": "73b899c1-0061-4c68-829c-fc0a6a69fa67",
   "metadata": {},
   "outputs": [
    {
     "data": {
      "text/plain": [
       "0         2.490664\n",
       "1         2.515820\n",
       "2         2.758411\n",
       "3         2.770615\n",
       "4         2.614201\n",
       "           ...    \n",
       "4788    132.080002\n",
       "4789    132.998001\n",
       "4790    135.570007\n",
       "4791    137.050003\n",
       "4792    138.429993\n",
       "Name: Price, Length: 4793, dtype: float64"
      ]
     },
     "execution_count": 6,
     "metadata": {},
     "output_type": "execute_result"
    }
   ],
   "source": [
    "google"
   ]
  },
  {
   "cell_type": "code",
   "execution_count": 7,
   "id": "a71fc433-aff3-4246-9530-074e0006bf25",
   "metadata": {},
   "outputs": [
    {
     "data": {
      "text/plain": [
       "0        12.490664\n",
       "1        12.515820\n",
       "2        12.758411\n",
       "3        12.770615\n",
       "4        12.614201\n",
       "           ...    \n",
       "4788    142.080002\n",
       "4789    142.998001\n",
       "4790    145.570007\n",
       "4791    147.050003\n",
       "4792    148.429993\n",
       "Name: Price, Length: 4793, dtype: float64"
      ]
     },
     "execution_count": 7,
     "metadata": {},
     "output_type": "execute_result"
    }
   ],
   "source": [
    "google + 10"
   ]
  },
  {
   "cell_type": "code",
   "execution_count": 9,
   "id": "e309f047-c8ea-4242-9973-b38fa1ed7a3a",
   "metadata": {},
   "outputs": [
    {
     "data": {
      "text/plain": [
       "0       -27.509336\n",
       "1       -27.484180\n",
       "2       -27.241589\n",
       "3       -27.229385\n",
       "4       -27.385799\n",
       "           ...    \n",
       "4788    102.080002\n",
       "4789    102.998001\n",
       "4790    105.570007\n",
       "4791    107.050003\n",
       "4792    108.429993\n",
       "Name: Price, Length: 4793, dtype: float64"
      ]
     },
     "execution_count": 9,
     "metadata": {},
     "output_type": "execute_result"
    }
   ],
   "source": [
    "google.sub(30)\n",
    "google - 30"
   ]
  },
  {
   "cell_type": "code",
   "execution_count": 10,
   "id": "f7e6922d-5316-4b94-ae27-a5b8f9f1015c",
   "metadata": {},
   "outputs": [
    {
     "data": {
      "text/plain": [
       "0         3.735996\n",
       "1         3.773730\n",
       "2         4.137617\n",
       "3         4.155922\n",
       "4         3.921302\n",
       "           ...    \n",
       "4788    198.120003\n",
       "4789    199.497001\n",
       "4790    203.355010\n",
       "4791    205.575005\n",
       "4792    207.644990\n",
       "Name: Price, Length: 4793, dtype: float64"
      ]
     },
     "execution_count": 10,
     "metadata": {},
     "output_type": "execute_result"
    }
   ],
   "source": [
    "google.mul(1.5)"
   ]
  },
  {
   "cell_type": "code",
   "execution_count": 11,
   "id": "57ae699e-ec18-4801-8ad6-cc8148e7771c",
   "metadata": {},
   "outputs": [
    {
     "data": {
      "text/plain": [
       "0         3.735996\n",
       "1         3.773730\n",
       "2         4.137617\n",
       "3         4.155922\n",
       "4         3.921302\n",
       "           ...    \n",
       "4788    198.120003\n",
       "4789    199.497001\n",
       "4790    203.355010\n",
       "4791    205.575005\n",
       "4792    207.644990\n",
       "Name: Price, Length: 4793, dtype: float64"
      ]
     },
     "execution_count": 11,
     "metadata": {},
     "output_type": "execute_result"
    }
   ],
   "source": [
    "google*1.5"
   ]
  },
  {
   "cell_type": "code",
   "execution_count": null,
   "id": "b6dbff3b-842d-4fe8-b180-6abfb5902e50",
   "metadata": {},
   "outputs": [],
   "source": []
  },
  {
   "cell_type": "code",
   "execution_count": null,
   "id": "009e4f37-fa34-4b73-a7cb-afaf83905745",
   "metadata": {},
   "outputs": [],
   "source": []
  },
  {
   "cell_type": "code",
   "execution_count": null,
   "id": "860ace49-a204-4a07-bcab-d59ba256dfb0",
   "metadata": {},
   "outputs": [],
   "source": []
  },
  {
   "cell_type": "code",
   "execution_count": null,
   "id": "6784450b-e96e-402d-9580-9a99fd86c0db",
   "metadata": {},
   "outputs": [],
   "source": []
  },
  {
   "cell_type": "code",
   "execution_count": null,
   "id": "c015e26a-b096-494e-8ff0-4b05664ebf3f",
   "metadata": {},
   "outputs": [],
   "source": []
  },
  {
   "cell_type": "code",
   "execution_count": null,
   "id": "797ae957-baf5-4ef4-93cb-684b66a2af2e",
   "metadata": {},
   "outputs": [],
   "source": []
  },
  {
   "cell_type": "code",
   "execution_count": null,
   "id": "efd7b9df-1af9-43d0-b4d3-8f86fb98dd0c",
   "metadata": {},
   "outputs": [],
   "source": []
  },
  {
   "cell_type": "code",
   "execution_count": null,
   "id": "01a4ade8-73b7-4e17-a55f-0de8289445dc",
   "metadata": {},
   "outputs": [],
   "source": []
  },
  {
   "cell_type": "code",
   "execution_count": null,
   "id": "583b0fdb-8805-475b-8ca0-b258bd020ba0",
   "metadata": {},
   "outputs": [],
   "source": []
  },
  {
   "cell_type": "code",
   "execution_count": null,
   "id": "0eba046a-a373-4f53-a879-354a2a922e42",
   "metadata": {},
   "outputs": [],
   "source": []
  },
  {
   "cell_type": "code",
   "execution_count": null,
   "id": "c670e476-4887-4cf8-b343-ef47409fcf65",
   "metadata": {},
   "outputs": [],
   "source": []
  },
  {
   "cell_type": "code",
   "execution_count": null,
   "id": "a9d0fc0a-63af-4636-8d12-7d10c2f55811",
   "metadata": {},
   "outputs": [],
   "source": []
  },
  {
   "cell_type": "code",
   "execution_count": null,
   "id": "7538a1ab-a343-467e-8c7e-37d5c09e2101",
   "metadata": {},
   "outputs": [],
   "source": []
  },
  {
   "cell_type": "code",
   "execution_count": null,
   "id": "1016cb94-9e8a-41e3-8552-216050c22191",
   "metadata": {},
   "outputs": [],
   "source": []
  },
  {
   "cell_type": "code",
   "execution_count": null,
   "id": "14ab4d5f-827e-4f2c-80a8-a9d96bb36f41",
   "metadata": {},
   "outputs": [],
   "source": []
  },
  {
   "cell_type": "code",
   "execution_count": null,
   "id": "16428504-a76a-42ad-aa31-54d9b3ad124d",
   "metadata": {},
   "outputs": [],
   "source": []
  },
  {
   "cell_type": "code",
   "execution_count": null,
   "id": "4f92fa9c-af1a-481e-83fc-f1a169f0207d",
   "metadata": {},
   "outputs": [],
   "source": []
  },
  {
   "cell_type": "code",
   "execution_count": null,
   "id": "ff9fbde3-7211-4ee3-acb8-9db6a27fec03",
   "metadata": {},
   "outputs": [],
   "source": []
  },
  {
   "cell_type": "code",
   "execution_count": null,
   "id": "a8709211-ff00-46e7-852c-b00869608e33",
   "metadata": {},
   "outputs": [],
   "source": []
  },
  {
   "cell_type": "code",
   "execution_count": null,
   "id": "c79e2bb2-a396-4d30-b7e0-6e090190554c",
   "metadata": {},
   "outputs": [],
   "source": []
  },
  {
   "cell_type": "code",
   "execution_count": null,
   "id": "f6c0d465-07c9-4938-80fc-7df838558b97",
   "metadata": {},
   "outputs": [],
   "source": []
  },
  {
   "cell_type": "code",
   "execution_count": null,
   "id": "278411e0-dd7c-4b64-8be6-358a6dd06727",
   "metadata": {},
   "outputs": [],
   "source": []
  },
  {
   "cell_type": "code",
   "execution_count": null,
   "id": "740b9e2a-74de-45c9-9fc3-ef30112a4c77",
   "metadata": {},
   "outputs": [],
   "source": []
  },
  {
   "cell_type": "code",
   "execution_count": null,
   "id": "efe7559e-6a9e-4a94-a48a-667141ff3a7b",
   "metadata": {},
   "outputs": [],
   "source": []
  },
  {
   "cell_type": "code",
   "execution_count": null,
   "id": "e55458a2-64ef-47c7-a11f-f39534735181",
   "metadata": {},
   "outputs": [],
   "source": []
  },
  {
   "cell_type": "code",
   "execution_count": null,
   "id": "ce5771b8-46b6-4853-bc4b-47eda2d0e9ab",
   "metadata": {},
   "outputs": [],
   "source": []
  },
  {
   "cell_type": "code",
   "execution_count": null,
   "id": "a2815660-7b70-4b4b-89ba-a8083d48e229",
   "metadata": {},
   "outputs": [],
   "source": []
  },
  {
   "cell_type": "code",
   "execution_count": null,
   "id": "84d5ca33-d275-4c25-a878-27b76dadcb66",
   "metadata": {},
   "outputs": [],
   "source": []
  },
  {
   "cell_type": "code",
   "execution_count": null,
   "id": "b8ca35ff-f4c6-427d-996a-aabb84e4e4b7",
   "metadata": {},
   "outputs": [],
   "source": []
  },
  {
   "cell_type": "code",
   "execution_count": null,
   "id": "d223ca29-8038-4ac4-ab72-718a6bd3ec13",
   "metadata": {},
   "outputs": [],
   "source": []
  }
 ],
 "metadata": {
  "kernelspec": {
   "display_name": "Python 3 (ipykernel)",
   "language": "python",
   "name": "python3"
  },
  "language_info": {
   "codemirror_mode": {
    "name": "ipython",
    "version": 3
   },
   "file_extension": ".py",
   "mimetype": "text/x-python",
   "name": "python",
   "nbconvert_exporter": "python",
   "pygments_lexer": "ipython3",
   "version": "3.12.0"
  }
 },
 "nbformat": 4,
 "nbformat_minor": 5
}
