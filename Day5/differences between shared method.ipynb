{
 "cells": [
  {
   "cell_type": "markdown",
   "id": "fefbb870-2dff-44e0-81e4-8840fda39f4c",
   "metadata": {},
   "source": [
    "# Differences between Shared Methods\n",
    "    The sum method adds a Series's value\n",
    "    On a DataFrame, the sum method defaults to adding the values by traversing the index(row Values)\n",
    "    The Axis parameter customizes the direction that we add across. Pass \"columns\" or 1 to add \"across\" the columns."
   ]
  },
  {
   "cell_type": "code",
   "execution_count": 1,
   "id": "083fabb7-93a6-4ed1-99f8-11f9a4d30e92",
   "metadata": {},
   "outputs": [],
   "source": [
    "import pandas as pd "
   ]
  },
  {
   "cell_type": "code",
   "execution_count": 11,
   "id": "1b81f46d-10b2-476c-aca4-9713f8dbb126",
   "metadata": {},
   "outputs": [
    {
     "data": {
      "text/html": [
       "<div>\n",
       "<style scoped>\n",
       "    .dataframe tbody tr th:only-of-type {\n",
       "        vertical-align: middle;\n",
       "    }\n",
       "\n",
       "    .dataframe tbody tr th {\n",
       "        vertical-align: top;\n",
       "    }\n",
       "\n",
       "    .dataframe thead th {\n",
       "        text-align: right;\n",
       "    }\n",
       "</style>\n",
       "<table border=\"1\" class=\"dataframe\">\n",
       "  <thead>\n",
       "    <tr style=\"text-align: right;\">\n",
       "      <th></th>\n",
       "      <th>New York</th>\n",
       "      <th>Los Angeles</th>\n",
       "      <th>Miami</th>\n",
       "    </tr>\n",
       "    <tr>\n",
       "      <th>Date</th>\n",
       "      <th></th>\n",
       "      <th></th>\n",
       "      <th></th>\n",
       "    </tr>\n",
       "  </thead>\n",
       "  <tbody>\n",
       "    <tr>\n",
       "      <th>1/1/26</th>\n",
       "      <td>985</td>\n",
       "      <td>122</td>\n",
       "      <td>499</td>\n",
       "    </tr>\n",
       "    <tr>\n",
       "      <th>1/2/26</th>\n",
       "      <td>738</td>\n",
       "      <td>788</td>\n",
       "      <td>534</td>\n",
       "    </tr>\n",
       "    <tr>\n",
       "      <th>1/3/26</th>\n",
       "      <td>14</td>\n",
       "      <td>20</td>\n",
       "      <td>933</td>\n",
       "    </tr>\n",
       "    <tr>\n",
       "      <th>1/4/26</th>\n",
       "      <td>730</td>\n",
       "      <td>904</td>\n",
       "      <td>885</td>\n",
       "    </tr>\n",
       "    <tr>\n",
       "      <th>1/5/26</th>\n",
       "      <td>114</td>\n",
       "      <td>71</td>\n",
       "      <td>253</td>\n",
       "    </tr>\n",
       "    <tr>\n",
       "      <th>1/6/26</th>\n",
       "      <td>936</td>\n",
       "      <td>502</td>\n",
       "      <td>497</td>\n",
       "    </tr>\n",
       "    <tr>\n",
       "      <th>1/7/26</th>\n",
       "      <td>123</td>\n",
       "      <td>996</td>\n",
       "      <td>115</td>\n",
       "    </tr>\n",
       "    <tr>\n",
       "      <th>1/8/26</th>\n",
       "      <td>935</td>\n",
       "      <td>492</td>\n",
       "      <td>886</td>\n",
       "    </tr>\n",
       "    <tr>\n",
       "      <th>1/9/26</th>\n",
       "      <td>846</td>\n",
       "      <td>954</td>\n",
       "      <td>823</td>\n",
       "    </tr>\n",
       "    <tr>\n",
       "      <th>1/10/26</th>\n",
       "      <td>54</td>\n",
       "      <td>285</td>\n",
       "      <td>216</td>\n",
       "    </tr>\n",
       "  </tbody>\n",
       "</table>\n",
       "</div>"
      ],
      "text/plain": [
       "         New York  Los Angeles  Miami\n",
       "Date                                 \n",
       "1/1/26        985          122    499\n",
       "1/2/26        738          788    534\n",
       "1/3/26         14           20    933\n",
       "1/4/26        730          904    885\n",
       "1/5/26        114           71    253\n",
       "1/6/26        936          502    497\n",
       "1/7/26        123          996    115\n",
       "1/8/26        935          492    886\n",
       "1/9/26        846          954    823\n",
       "1/10/26        54          285    216"
      ]
     },
     "execution_count": 11,
     "metadata": {},
     "output_type": "execute_result"
    }
   ],
   "source": [
    "revenue = pd.read_csv(\"C:/Users/sharma/Desktop/pandas/pandas/Incomplete/revenue.csv\", index_col = \"Date\")\n",
    "revenue"
   ]
  },
  {
   "cell_type": "code",
   "execution_count": 9,
   "id": "dced8850-2f99-4790-8734-465140cf4339",
   "metadata": {},
   "outputs": [
    {
     "data": {
      "text/plain": [
       "6"
      ]
     },
     "execution_count": 9,
     "metadata": {},
     "output_type": "execute_result"
    }
   ],
   "source": [
    "s = pd.Series([1,2,3])\n",
    "s.sum()"
   ]
  },
  {
   "cell_type": "code",
   "execution_count": 12,
   "id": "294e678f-7826-4808-82f8-ef8341113cf0",
   "metadata": {},
   "outputs": [
    {
     "data": {
      "text/plain": [
       "New York       5475\n",
       "Los Angeles    5134\n",
       "Miami          5641\n",
       "dtype: int64"
      ]
     },
     "execution_count": 12,
     "metadata": {},
     "output_type": "execute_result"
    }
   ],
   "source": [
    "revenue.sum()"
   ]
  },
  {
   "cell_type": "code",
   "execution_count": 13,
   "id": "92264005-022a-4082-b080-54f7d43295b2",
   "metadata": {},
   "outputs": [
    {
     "data": {
      "text/plain": [
       "New York       5475\n",
       "Los Angeles    5134\n",
       "Miami          5641\n",
       "dtype: int64"
      ]
     },
     "execution_count": 13,
     "metadata": {},
     "output_type": "execute_result"
    }
   ],
   "source": [
    "revenue.sum(axis = \"index\")"
   ]
  },
  {
   "cell_type": "code",
   "execution_count": 14,
   "id": "b97c0702-026f-4194-b394-27eccdda01a7",
   "metadata": {},
   "outputs": [
    {
     "data": {
      "text/plain": [
       "Date\n",
       "1/1/26     1606\n",
       "1/2/26     2060\n",
       "1/3/26      967\n",
       "1/4/26     2519\n",
       "1/5/26      438\n",
       "1/6/26     1935\n",
       "1/7/26     1234\n",
       "1/8/26     2313\n",
       "1/9/26     2623\n",
       "1/10/26     555\n",
       "dtype: int64"
      ]
     },
     "execution_count": 14,
     "metadata": {},
     "output_type": "execute_result"
    }
   ],
   "source": [
    "revenue.sum(axis = \"columns\")"
   ]
  },
  {
   "cell_type": "code",
   "execution_count": 16,
   "id": "f9ccfc6c-fcc5-4a34-9a81-6b4d45e6835d",
   "metadata": {},
   "outputs": [
    {
     "data": {
      "text/plain": [
       "16250"
      ]
     },
     "execution_count": 16,
     "metadata": {},
     "output_type": "execute_result"
    }
   ],
   "source": [
    "revenue.sum(axis = \"columns\").sum()"
   ]
  },
  {
   "cell_type": "code",
   "execution_count": 19,
   "id": "d07ed463-492a-4862-a805-52c2470a69ca",
   "metadata": {},
   "outputs": [
    {
     "data": {
      "text/html": [
       "<div>\n",
       "<style scoped>\n",
       "    .dataframe tbody tr th:only-of-type {\n",
       "        vertical-align: middle;\n",
       "    }\n",
       "\n",
       "    .dataframe tbody tr th {\n",
       "        vertical-align: top;\n",
       "    }\n",
       "\n",
       "    .dataframe thead th {\n",
       "        text-align: right;\n",
       "    }\n",
       "</style>\n",
       "<table border=\"1\" class=\"dataframe\">\n",
       "  <thead>\n",
       "    <tr style=\"text-align: right;\">\n",
       "      <th></th>\n",
       "      <th>Name</th>\n",
       "      <th>Team</th>\n",
       "      <th>Position</th>\n",
       "      <th>Height</th>\n",
       "      <th>Weight</th>\n",
       "      <th>College</th>\n",
       "      <th>Salary</th>\n",
       "    </tr>\n",
       "  </thead>\n",
       "  <tbody>\n",
       "    <tr>\n",
       "      <th>0</th>\n",
       "      <td>Saddiq Bey</td>\n",
       "      <td>Atlanta Hawks</td>\n",
       "      <td>F</td>\n",
       "      <td>6-7</td>\n",
       "      <td>215.0</td>\n",
       "      <td>Villanova</td>\n",
       "      <td>4556983.0</td>\n",
       "    </tr>\n",
       "    <tr>\n",
       "      <th>1</th>\n",
       "      <td>Bogdan Bogdanovic</td>\n",
       "      <td>Atlanta Hawks</td>\n",
       "      <td>G</td>\n",
       "      <td>6-5</td>\n",
       "      <td>225.0</td>\n",
       "      <td>Fenerbahce</td>\n",
       "      <td>18700000.0</td>\n",
       "    </tr>\n",
       "    <tr>\n",
       "      <th>2</th>\n",
       "      <td>Kobe Bufkin</td>\n",
       "      <td>Atlanta Hawks</td>\n",
       "      <td>G</td>\n",
       "      <td>6-5</td>\n",
       "      <td>195.0</td>\n",
       "      <td>Michigan</td>\n",
       "      <td>4094244.0</td>\n",
       "    </tr>\n",
       "    <tr>\n",
       "      <th>3</th>\n",
       "      <td>Clint Capela</td>\n",
       "      <td>Atlanta Hawks</td>\n",
       "      <td>C</td>\n",
       "      <td>6-10</td>\n",
       "      <td>256.0</td>\n",
       "      <td>Elan Chalon</td>\n",
       "      <td>20616000.0</td>\n",
       "    </tr>\n",
       "    <tr>\n",
       "      <th>4</th>\n",
       "      <td>Bruno Fernando</td>\n",
       "      <td>Atlanta Hawks</td>\n",
       "      <td>F-C</td>\n",
       "      <td>6-10</td>\n",
       "      <td>240.0</td>\n",
       "      <td>Maryland</td>\n",
       "      <td>2581522.0</td>\n",
       "    </tr>\n",
       "    <tr>\n",
       "      <th>...</th>\n",
       "      <td>...</td>\n",
       "      <td>...</td>\n",
       "      <td>...</td>\n",
       "      <td>...</td>\n",
       "      <td>...</td>\n",
       "      <td>...</td>\n",
       "      <td>...</td>\n",
       "    </tr>\n",
       "    <tr>\n",
       "      <th>587</th>\n",
       "      <td>Ryan Rollins</td>\n",
       "      <td>Washington Wizards</td>\n",
       "      <td>G</td>\n",
       "      <td>6-3</td>\n",
       "      <td>180.0</td>\n",
       "      <td>Toledo</td>\n",
       "      <td>1719864.0</td>\n",
       "    </tr>\n",
       "    <tr>\n",
       "      <th>588</th>\n",
       "      <td>Landry Shamet</td>\n",
       "      <td>Washington Wizards</td>\n",
       "      <td>G</td>\n",
       "      <td>6-4</td>\n",
       "      <td>190.0</td>\n",
       "      <td>Wichita State</td>\n",
       "      <td>10250000.0</td>\n",
       "    </tr>\n",
       "    <tr>\n",
       "      <th>589</th>\n",
       "      <td>Tristan Vukcevic</td>\n",
       "      <td>Washington Wizards</td>\n",
       "      <td>F</td>\n",
       "      <td>6-10</td>\n",
       "      <td>220.0</td>\n",
       "      <td>Real Madrid</td>\n",
       "      <td>NaN</td>\n",
       "    </tr>\n",
       "    <tr>\n",
       "      <th>590</th>\n",
       "      <td>Delon Wright</td>\n",
       "      <td>Washington Wizards</td>\n",
       "      <td>G</td>\n",
       "      <td>6-5</td>\n",
       "      <td>185.0</td>\n",
       "      <td>Utah</td>\n",
       "      <td>8195122.0</td>\n",
       "    </tr>\n",
       "    <tr>\n",
       "      <th>591</th>\n",
       "      <td>NaN</td>\n",
       "      <td>NaN</td>\n",
       "      <td>NaN</td>\n",
       "      <td>NaN</td>\n",
       "      <td>NaN</td>\n",
       "      <td>NaN</td>\n",
       "      <td>NaN</td>\n",
       "    </tr>\n",
       "  </tbody>\n",
       "</table>\n",
       "<p>592 rows × 7 columns</p>\n",
       "</div>"
      ],
      "text/plain": [
       "                  Name                Team Position Height  Weight  \\\n",
       "0           Saddiq Bey       Atlanta Hawks        F    6-7   215.0   \n",
       "1    Bogdan Bogdanovic       Atlanta Hawks        G    6-5   225.0   \n",
       "2          Kobe Bufkin       Atlanta Hawks        G    6-5   195.0   \n",
       "3         Clint Capela       Atlanta Hawks        C   6-10   256.0   \n",
       "4       Bruno Fernando       Atlanta Hawks      F-C   6-10   240.0   \n",
       "..                 ...                 ...      ...    ...     ...   \n",
       "587       Ryan Rollins  Washington Wizards        G    6-3   180.0   \n",
       "588      Landry Shamet  Washington Wizards        G    6-4   190.0   \n",
       "589   Tristan Vukcevic  Washington Wizards        F   6-10   220.0   \n",
       "590       Delon Wright  Washington Wizards        G    6-5   185.0   \n",
       "591                NaN                 NaN      NaN    NaN     NaN   \n",
       "\n",
       "           College      Salary  \n",
       "0        Villanova   4556983.0  \n",
       "1       Fenerbahce  18700000.0  \n",
       "2         Michigan   4094244.0  \n",
       "3      Elan Chalon  20616000.0  \n",
       "4         Maryland   2581522.0  \n",
       "..             ...         ...  \n",
       "587         Toledo   1719864.0  \n",
       "588  Wichita State  10250000.0  \n",
       "589    Real Madrid         NaN  \n",
       "590           Utah   8195122.0  \n",
       "591            NaN         NaN  \n",
       "\n",
       "[592 rows x 7 columns]"
      ]
     },
     "execution_count": 19,
     "metadata": {},
     "output_type": "execute_result"
    }
   ],
   "source": [
    "nba = pd.read_csv(\"C:/Users/sharma/Desktop/pandas/pandas/Incomplete/nba.csv\")\n",
    "nba"
   ]
  },
  {
   "cell_type": "code",
   "execution_count": 20,
   "id": "6beed096-0a99-462d-97dc-198d40228ea1",
   "metadata": {},
   "outputs": [
    {
     "data": {
      "text/plain": [
       "0           Atlanta Hawks\n",
       "1           Atlanta Hawks\n",
       "2           Atlanta Hawks\n",
       "3           Atlanta Hawks\n",
       "4           Atlanta Hawks\n",
       "              ...        \n",
       "587    Washington Wizards\n",
       "588    Washington Wizards\n",
       "589    Washington Wizards\n",
       "590    Washington Wizards\n",
       "591                   NaN\n",
       "Name: Team, Length: 592, dtype: object"
      ]
     },
     "execution_count": 20,
     "metadata": {},
     "output_type": "execute_result"
    }
   ],
   "source": [
    "nba.Team"
   ]
  },
  {
   "cell_type": "code",
   "execution_count": 21,
   "id": "ed2867ba-fdd8-4269-8615-ce1740998786",
   "metadata": {},
   "outputs": [
    {
     "data": {
      "text/plain": [
       "0       4556983.0\n",
       "1      18700000.0\n",
       "2       4094244.0\n",
       "3      20616000.0\n",
       "4       2581522.0\n",
       "          ...    \n",
       "587     1719864.0\n",
       "588    10250000.0\n",
       "589           NaN\n",
       "590     8195122.0\n",
       "591           NaN\n",
       "Name: Salary, Length: 592, dtype: float64"
      ]
     },
     "execution_count": 21,
     "metadata": {},
     "output_type": "execute_result"
    }
   ],
   "source": [
    "nba.Salary"
   ]
  },
  {
   "cell_type": "code",
   "execution_count": 22,
   "id": "c72491a3-a15b-4490-8ab9-961437b3538d",
   "metadata": {},
   "outputs": [
    {
     "data": {
      "text/plain": [
       "0             Saddiq Bey\n",
       "1      Bogdan Bogdanovic\n",
       "2            Kobe Bufkin\n",
       "3           Clint Capela\n",
       "4         Bruno Fernando\n",
       "             ...        \n",
       "587         Ryan Rollins\n",
       "588        Landry Shamet\n",
       "589     Tristan Vukcevic\n",
       "590         Delon Wright\n",
       "591                  NaN\n",
       "Name: Name, Length: 592, dtype: object"
      ]
     },
     "execution_count": 22,
     "metadata": {},
     "output_type": "execute_result"
    }
   ],
   "source": [
    "nba.Name"
   ]
  },
  {
   "cell_type": "code",
   "execution_count": null,
   "id": "21b4da18-f766-4e03-919e-4e3b11b28d54",
   "metadata": {},
   "outputs": [],
   "source": []
  },
  {
   "cell_type": "code",
   "execution_count": null,
   "id": "64556723-d308-44eb-aecc-c6be4c302c34",
   "metadata": {},
   "outputs": [],
   "source": []
  },
  {
   "cell_type": "code",
   "execution_count": null,
   "id": "0ddbde05-ccba-4da6-8994-ce094d310119",
   "metadata": {},
   "outputs": [],
   "source": []
  },
  {
   "cell_type": "code",
   "execution_count": null,
   "id": "4cf24f1b-2fa8-49d4-ad7d-ac2ce3375e24",
   "metadata": {},
   "outputs": [],
   "source": []
  },
  {
   "cell_type": "code",
   "execution_count": null,
   "id": "d2d7727d-2d9f-420d-846a-912a9d473bf9",
   "metadata": {},
   "outputs": [],
   "source": []
  },
  {
   "cell_type": "code",
   "execution_count": null,
   "id": "7a390669-44dc-44cc-aa8f-d7af1213f2ce",
   "metadata": {},
   "outputs": [],
   "source": []
  },
  {
   "cell_type": "code",
   "execution_count": null,
   "id": "bed51777-b124-4842-9270-35ebae4bd1f8",
   "metadata": {},
   "outputs": [],
   "source": []
  },
  {
   "cell_type": "code",
   "execution_count": null,
   "id": "3cb036bd-baa6-4a95-8a5f-e42d74492749",
   "metadata": {},
   "outputs": [],
   "source": []
  },
  {
   "cell_type": "code",
   "execution_count": null,
   "id": "6de7a24e-5e00-4502-be52-f65833a825f3",
   "metadata": {},
   "outputs": [],
   "source": []
  },
  {
   "cell_type": "code",
   "execution_count": null,
   "id": "e26441f8-31a9-4c0d-b4d0-35383f411469",
   "metadata": {},
   "outputs": [],
   "source": []
  },
  {
   "cell_type": "code",
   "execution_count": null,
   "id": "2ece532f-c01e-4a2c-bda2-30cf8a685791",
   "metadata": {},
   "outputs": [],
   "source": []
  },
  {
   "cell_type": "code",
   "execution_count": null,
   "id": "5ed6898a-c87f-4ec4-b421-21a2c7c92bd2",
   "metadata": {},
   "outputs": [],
   "source": []
  },
  {
   "cell_type": "code",
   "execution_count": null,
   "id": "68065437-a98d-4dc7-87ae-e0254e02aae6",
   "metadata": {},
   "outputs": [],
   "source": []
  },
  {
   "cell_type": "code",
   "execution_count": null,
   "id": "548d2c36-ca0d-4a41-a993-e707a2cdda06",
   "metadata": {},
   "outputs": [],
   "source": []
  },
  {
   "cell_type": "code",
   "execution_count": null,
   "id": "c539f600-ea9d-4d8e-87b8-71ca35a70e1e",
   "metadata": {},
   "outputs": [],
   "source": []
  },
  {
   "cell_type": "code",
   "execution_count": null,
   "id": "7bc2810d-e6dc-4fb0-87d2-f2ae52cde5c4",
   "metadata": {},
   "outputs": [],
   "source": []
  },
  {
   "cell_type": "code",
   "execution_count": null,
   "id": "0391d502-d4e2-4448-b2c6-59961059608a",
   "metadata": {},
   "outputs": [],
   "source": []
  },
  {
   "cell_type": "code",
   "execution_count": null,
   "id": "b87b37e1-ea60-4102-bdfe-372595ba4786",
   "metadata": {},
   "outputs": [],
   "source": []
  },
  {
   "cell_type": "code",
   "execution_count": null,
   "id": "962a9048-c1fd-4fdc-9718-70b20bfdd2e3",
   "metadata": {},
   "outputs": [],
   "source": []
  },
  {
   "cell_type": "code",
   "execution_count": null,
   "id": "d57949d5-6c30-4a68-96f1-683175c5a00d",
   "metadata": {},
   "outputs": [],
   "source": []
  },
  {
   "cell_type": "code",
   "execution_count": null,
   "id": "d46f07eb-81bd-46f4-804c-eb46338b0d86",
   "metadata": {},
   "outputs": [],
   "source": []
  },
  {
   "cell_type": "code",
   "execution_count": null,
   "id": "f59a90ef-41f8-4d34-9556-d11c2c00ec67",
   "metadata": {},
   "outputs": [],
   "source": []
  },
  {
   "cell_type": "code",
   "execution_count": null,
   "id": "1044a32b-c917-45b2-b42e-dd78aa9688d1",
   "metadata": {},
   "outputs": [],
   "source": []
  },
  {
   "cell_type": "code",
   "execution_count": null,
   "id": "44a12b14-26b3-448c-8e43-7df0e2e69bbb",
   "metadata": {},
   "outputs": [],
   "source": []
  },
  {
   "cell_type": "code",
   "execution_count": null,
   "id": "7919a559-9223-4e89-a290-1f9bd9549674",
   "metadata": {},
   "outputs": [],
   "source": []
  },
  {
   "cell_type": "code",
   "execution_count": null,
   "id": "06179736-9ebf-4687-9a8a-2f8b8e6beeb9",
   "metadata": {},
   "outputs": [],
   "source": []
  },
  {
   "cell_type": "code",
   "execution_count": null,
   "id": "4e2ac5df-34a2-40ce-b727-349852bca2de",
   "metadata": {},
   "outputs": [],
   "source": []
  },
  {
   "cell_type": "code",
   "execution_count": null,
   "id": "46406bff-122f-47eb-a33f-01ac4fde7c9d",
   "metadata": {},
   "outputs": [],
   "source": []
  },
  {
   "cell_type": "code",
   "execution_count": null,
   "id": "189d9e6a-bcc3-47f5-8c08-76674ad5fd3d",
   "metadata": {},
   "outputs": [],
   "source": []
  }
 ],
 "metadata": {
  "kernelspec": {
   "display_name": "Python 3 (ipykernel)",
   "language": "python",
   "name": "python3"
  },
  "language_info": {
   "codemirror_mode": {
    "name": "ipython",
    "version": 3
   },
   "file_extension": ".py",
   "mimetype": "text/x-python",
   "name": "python",
   "nbconvert_exporter": "python",
   "pygments_lexer": "ipython3",
   "version": "3.12.0"
  }
 },
 "nbformat": 4,
 "nbformat_minor": 5
}
