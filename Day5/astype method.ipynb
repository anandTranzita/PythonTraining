{
 "cells": [
  {
   "cell_type": "markdown",
   "id": "a8df8c7e-c001-4700-b81a-5abaf9412825",
   "metadata": {},
   "source": [
    "# The astype Method\n",
    "    . The astype method converts a Series's values to a specified type\n",
    "    . Pass in the specified type as either a string or the core Python data type\n",
    "    . Pandas cannot convert NaN values to numeric types, so we need to eliminate/replace them before we perform the conversion \n",
    "    . The dtypes attributte returns a Series with the DataType's columns and their types"
   ]
  },
  {
   "cell_type": "code",
   "execution_count": 1,
   "id": "d3752b49-31de-4c12-84ac-27d1e76550dc",
   "metadata": {},
   "outputs": [],
   "source": [
    "import pandas as pd"
   ]
  },
  {
   "cell_type": "code",
   "execution_count": 4,
   "id": "a64f7eb0-c01d-402e-934e-af159aecdf7e",
   "metadata": {},
   "outputs": [
    {
     "data": {
      "text/html": [
       "<div>\n",
       "<style scoped>\n",
       "    .dataframe tbody tr th:only-of-type {\n",
       "        vertical-align: middle;\n",
       "    }\n",
       "\n",
       "    .dataframe tbody tr th {\n",
       "        vertical-align: top;\n",
       "    }\n",
       "\n",
       "    .dataframe thead th {\n",
       "        text-align: right;\n",
       "    }\n",
       "</style>\n",
       "<table border=\"1\" class=\"dataframe\">\n",
       "  <thead>\n",
       "    <tr style=\"text-align: right;\">\n",
       "      <th></th>\n",
       "      <th>Name</th>\n",
       "      <th>Team</th>\n",
       "      <th>Position</th>\n",
       "      <th>Height</th>\n",
       "      <th>Weight</th>\n",
       "      <th>College</th>\n",
       "      <th>Salary</th>\n",
       "    </tr>\n",
       "  </thead>\n",
       "  <tbody>\n",
       "    <tr>\n",
       "      <th>0</th>\n",
       "      <td>Saddiq Bey</td>\n",
       "      <td>Atlanta Hawks</td>\n",
       "      <td>F</td>\n",
       "      <td>6-7</td>\n",
       "      <td>215.0</td>\n",
       "      <td>Villanova</td>\n",
       "      <td>4556983.0</td>\n",
       "    </tr>\n",
       "    <tr>\n",
       "      <th>1</th>\n",
       "      <td>Bogdan Bogdanovic</td>\n",
       "      <td>Atlanta Hawks</td>\n",
       "      <td>G</td>\n",
       "      <td>6-5</td>\n",
       "      <td>225.0</td>\n",
       "      <td>Fenerbahce</td>\n",
       "      <td>18700000.0</td>\n",
       "    </tr>\n",
       "    <tr>\n",
       "      <th>2</th>\n",
       "      <td>Kobe Bufkin</td>\n",
       "      <td>Atlanta Hawks</td>\n",
       "      <td>G</td>\n",
       "      <td>6-5</td>\n",
       "      <td>195.0</td>\n",
       "      <td>Michigan</td>\n",
       "      <td>4094244.0</td>\n",
       "    </tr>\n",
       "    <tr>\n",
       "      <th>3</th>\n",
       "      <td>Clint Capela</td>\n",
       "      <td>Atlanta Hawks</td>\n",
       "      <td>C</td>\n",
       "      <td>6-10</td>\n",
       "      <td>256.0</td>\n",
       "      <td>Elan Chalon</td>\n",
       "      <td>20616000.0</td>\n",
       "    </tr>\n",
       "    <tr>\n",
       "      <th>4</th>\n",
       "      <td>Bruno Fernando</td>\n",
       "      <td>Atlanta Hawks</td>\n",
       "      <td>F-C</td>\n",
       "      <td>6-10</td>\n",
       "      <td>240.0</td>\n",
       "      <td>Maryland</td>\n",
       "      <td>2581522.0</td>\n",
       "    </tr>\n",
       "    <tr>\n",
       "      <th>...</th>\n",
       "      <td>...</td>\n",
       "      <td>...</td>\n",
       "      <td>...</td>\n",
       "      <td>...</td>\n",
       "      <td>...</td>\n",
       "      <td>...</td>\n",
       "      <td>...</td>\n",
       "    </tr>\n",
       "    <tr>\n",
       "      <th>586</th>\n",
       "      <td>Jordan Poole</td>\n",
       "      <td>Washington Wizards</td>\n",
       "      <td>G</td>\n",
       "      <td>6-4</td>\n",
       "      <td>194.0</td>\n",
       "      <td>Michigan</td>\n",
       "      <td>27955357.0</td>\n",
       "    </tr>\n",
       "    <tr>\n",
       "      <th>587</th>\n",
       "      <td>Ryan Rollins</td>\n",
       "      <td>Washington Wizards</td>\n",
       "      <td>G</td>\n",
       "      <td>6-3</td>\n",
       "      <td>180.0</td>\n",
       "      <td>Toledo</td>\n",
       "      <td>1719864.0</td>\n",
       "    </tr>\n",
       "    <tr>\n",
       "      <th>588</th>\n",
       "      <td>Landry Shamet</td>\n",
       "      <td>Washington Wizards</td>\n",
       "      <td>G</td>\n",
       "      <td>6-4</td>\n",
       "      <td>190.0</td>\n",
       "      <td>Wichita State</td>\n",
       "      <td>10250000.0</td>\n",
       "    </tr>\n",
       "    <tr>\n",
       "      <th>589</th>\n",
       "      <td>Tristan Vukcevic</td>\n",
       "      <td>Washington Wizards</td>\n",
       "      <td>F</td>\n",
       "      <td>6-10</td>\n",
       "      <td>220.0</td>\n",
       "      <td>Real Madrid</td>\n",
       "      <td>NaN</td>\n",
       "    </tr>\n",
       "    <tr>\n",
       "      <th>590</th>\n",
       "      <td>Delon Wright</td>\n",
       "      <td>Washington Wizards</td>\n",
       "      <td>G</td>\n",
       "      <td>6-5</td>\n",
       "      <td>185.0</td>\n",
       "      <td>Utah</td>\n",
       "      <td>8195122.0</td>\n",
       "    </tr>\n",
       "  </tbody>\n",
       "</table>\n",
       "<p>591 rows × 7 columns</p>\n",
       "</div>"
      ],
      "text/plain": [
       "                  Name                Team Position Height  Weight  \\\n",
       "0           Saddiq Bey       Atlanta Hawks        F    6-7   215.0   \n",
       "1    Bogdan Bogdanovic       Atlanta Hawks        G    6-5   225.0   \n",
       "2          Kobe Bufkin       Atlanta Hawks        G    6-5   195.0   \n",
       "3         Clint Capela       Atlanta Hawks        C   6-10   256.0   \n",
       "4       Bruno Fernando       Atlanta Hawks      F-C   6-10   240.0   \n",
       "..                 ...                 ...      ...    ...     ...   \n",
       "586       Jordan Poole  Washington Wizards        G    6-4   194.0   \n",
       "587       Ryan Rollins  Washington Wizards        G    6-3   180.0   \n",
       "588      Landry Shamet  Washington Wizards        G    6-4   190.0   \n",
       "589   Tristan Vukcevic  Washington Wizards        F   6-10   220.0   \n",
       "590       Delon Wright  Washington Wizards        G    6-5   185.0   \n",
       "\n",
       "           College      Salary  \n",
       "0        Villanova   4556983.0  \n",
       "1       Fenerbahce  18700000.0  \n",
       "2         Michigan   4094244.0  \n",
       "3      Elan Chalon  20616000.0  \n",
       "4         Maryland   2581522.0  \n",
       "..             ...         ...  \n",
       "586       Michigan  27955357.0  \n",
       "587         Toledo   1719864.0  \n",
       "588  Wichita State  10250000.0  \n",
       "589    Real Madrid         NaN  \n",
       "590           Utah   8195122.0  \n",
       "\n",
       "[591 rows x 7 columns]"
      ]
     },
     "execution_count": 4,
     "metadata": {},
     "output_type": "execute_result"
    }
   ],
   "source": [
    "nba = pd.read_csv(\"C:/Users/sharma/Desktop/pandas/pandas/Incomplete/nba.csv\").dropna(how = 'all')\n",
    "nba"
   ]
  },
  {
   "cell_type": "code",
   "execution_count": 5,
   "id": "7df1ff2b-f179-4bff-b735-5310eebf34d9",
   "metadata": {},
   "outputs": [],
   "source": [
    "nba['Salary'] = nba['Salary'].fillna(0)"
   ]
  },
  {
   "cell_type": "code",
   "execution_count": 6,
   "id": "7b20854f-2c57-49af-b2cc-e5075a925e85",
   "metadata": {},
   "outputs": [
    {
     "data": {
      "text/plain": [
       "Name         object\n",
       "Team         object\n",
       "Position     object\n",
       "Height       object\n",
       "Weight      float64\n",
       "College      object\n",
       "Salary      float64\n",
       "dtype: object"
      ]
     },
     "execution_count": 6,
     "metadata": {},
     "output_type": "execute_result"
    }
   ],
   "source": [
    "nba.dtypes"
   ]
  },
  {
   "cell_type": "code",
   "execution_count": 7,
   "id": "624c0afd-0d1e-49f8-93b3-06270f8a773f",
   "metadata": {},
   "outputs": [
    {
     "data": {
      "text/plain": [
       "0       4556983\n",
       "1      18700000\n",
       "2       4094244\n",
       "3      20616000\n",
       "4       2581522\n",
       "         ...   \n",
       "586    27955357\n",
       "587     1719864\n",
       "588    10250000\n",
       "589           0\n",
       "590     8195122\n",
       "Name: Salary, Length: 591, dtype: int32"
      ]
     },
     "execution_count": 7,
     "metadata": {},
     "output_type": "execute_result"
    }
   ],
   "source": [
    "nba['Salary'].astype(\"int\")"
   ]
  },
  {
   "cell_type": "code",
   "execution_count": 9,
   "id": "c3298aed-5ca5-4803-a58f-8591362bfad6",
   "metadata": {},
   "outputs": [],
   "source": [
    "nba['Salary'] = nba['Salary'].astype(int)"
   ]
  },
  {
   "cell_type": "code",
   "execution_count": 10,
   "id": "ebe1d0bf-8e91-4c0c-93b6-17308bca35ac",
   "metadata": {},
   "outputs": [
    {
     "data": {
      "text/plain": [
       "Name         object\n",
       "Team         object\n",
       "Position     object\n",
       "Height       object\n",
       "Weight      float64\n",
       "College      object\n",
       "Salary        int32\n",
       "dtype: object"
      ]
     },
     "execution_count": 10,
     "metadata": {},
     "output_type": "execute_result"
    }
   ],
   "source": [
    "nba.dtypes"
   ]
  },
  {
   "cell_type": "code",
   "execution_count": 11,
   "id": "0430a8e0-78be-43da-b2af-8050cd08ed65",
   "metadata": {},
   "outputs": [
    {
     "data": {
      "text/plain": [
       "dtype('int32')"
      ]
     },
     "execution_count": 11,
     "metadata": {},
     "output_type": "execute_result"
    }
   ],
   "source": [
    "nba['Salary'].dtypes"
   ]
  },
  {
   "cell_type": "code",
   "execution_count": 15,
   "id": "be71ef28-1245-4b27-b8f1-efb504979980",
   "metadata": {},
   "outputs": [
    {
     "data": {
      "text/plain": [
       "Name        591\n",
       "Team         30\n",
       "Position      7\n",
       "Height       20\n",
       "Weight       93\n",
       "College     182\n",
       "Salary      299\n",
       "dtype: int64"
      ]
     },
     "execution_count": 15,
     "metadata": {},
     "output_type": "execute_result"
    }
   ],
   "source": [
    "nba[\"Team\"].nunique()\n",
    "nba.nunique()"
   ]
  },
  {
   "cell_type": "code",
   "execution_count": 20,
   "id": "f47c7eb4-f1f1-4f25-bcdc-3fd6ac2a06d3",
   "metadata": {},
   "outputs": [
    {
     "name": "stdout",
     "output_type": "stream",
     "text": [
      "<class 'pandas.core.frame.DataFrame'>\n",
      "Index: 591 entries, 0 to 590\n",
      "Data columns (total 7 columns):\n",
      " #   Column    Non-Null Count  Dtype   \n",
      "---  ------    --------------  -----   \n",
      " 0   Name      591 non-null    object  \n",
      " 1   Team      591 non-null    object  \n",
      " 2   Position  584 non-null    category\n",
      " 3   Height    585 non-null    object  \n",
      " 4   Weight    584 non-null    float64 \n",
      " 5   College   578 non-null    object  \n",
      " 6   Salary    591 non-null    int32   \n",
      "dtypes: category(1), float64(1), int32(1), object(4)\n",
      "memory usage: 30.9+ KB\n"
     ]
    }
   ],
   "source": [
    "nba.info()"
   ]
  },
  {
   "cell_type": "code",
   "execution_count": 19,
   "id": "317972f1-b121-422e-a1db-fa09eca5dd4b",
   "metadata": {},
   "outputs": [],
   "source": [
    "nba['Position'] = nba['Position'].astype(\"category\")"
   ]
  },
  {
   "cell_type": "code",
   "execution_count": 21,
   "id": "851ca1df-3747-4877-8a77-742568f7275b",
   "metadata": {},
   "outputs": [],
   "source": [
    "nba[\"Team\"] = nba['Team'].astype('category')"
   ]
  },
  {
   "cell_type": "code",
   "execution_count": 22,
   "id": "46834b18-80eb-44e3-b17d-2303bed1518f",
   "metadata": {},
   "outputs": [
    {
     "name": "stdout",
     "output_type": "stream",
     "text": [
      "<class 'pandas.core.frame.DataFrame'>\n",
      "Index: 591 entries, 0 to 590\n",
      "Data columns (total 7 columns):\n",
      " #   Column    Non-Null Count  Dtype   \n",
      "---  ------    --------------  -----   \n",
      " 0   Name      591 non-null    object  \n",
      " 1   Team      591 non-null    category\n",
      " 2   Position  584 non-null    category\n",
      " 3   Height    585 non-null    object  \n",
      " 4   Weight    584 non-null    float64 \n",
      " 5   College   578 non-null    object  \n",
      " 6   Salary    591 non-null    int32   \n",
      "dtypes: category(2), float64(1), int32(1), object(3)\n",
      "memory usage: 28.2+ KB\n"
     ]
    }
   ],
   "source": [
    "nba.info()"
   ]
  },
  {
   "cell_type": "code",
   "execution_count": null,
   "id": "6d0b480c-89d7-46f7-b7f1-c72cf4899a87",
   "metadata": {},
   "outputs": [],
   "source": []
  }
 ],
 "metadata": {
  "kernelspec": {
   "display_name": "Python 3 (ipykernel)",
   "language": "python",
   "name": "python3"
  },
  "language_info": {
   "codemirror_mode": {
    "name": "ipython",
    "version": 3
   },
   "file_extension": ".py",
   "mimetype": "text/x-python",
   "name": "python",
   "nbconvert_exporter": "python",
   "pygments_lexer": "ipython3",
   "version": "3.12.0"
  }
 },
 "nbformat": 4,
 "nbformat_minor": 5
}
