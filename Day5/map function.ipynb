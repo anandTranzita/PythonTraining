{
 "cells": [
  {
   "cell_type": "markdown",
   "id": "d48119b4-6e57-4b6b-829a-4d915c076d45",
   "metadata": {},
   "source": [
    "# Map Function\n"
   ]
  },
  {
   "cell_type": "code",
   "execution_count": 1,
   "id": "ad72d717-c721-4f20-9991-fbe347329e3b",
   "metadata": {},
   "outputs": [],
   "source": [
    "import pandas as pd"
   ]
  },
  {
   "cell_type": "code",
   "execution_count": 3,
   "id": "de11a63c-b09f-4e3a-918a-6df3d6309f3f",
   "metadata": {},
   "outputs": [
    {
     "data": {
      "text/plain": [
       "Name\n",
       "Bulbasaur          Grass, Poison\n",
       "Ivysaur            Grass, Poison\n",
       "Venusaur           Grass, Poison\n",
       "Charmander                  Fire\n",
       "Charmeleon                  Fire\n",
       "                      ...       \n",
       "Iron Valiant     Fairy, Fighting\n",
       "Koraidon        Fighting, Dragon\n",
       "Miraidon        Electric, Dragon\n",
       "Walking Wake       Water, Dragon\n",
       "Iron Leaves       Grass, Psychic\n",
       "Name: Type, Length: 1010, dtype: object"
      ]
     },
     "execution_count": 3,
     "metadata": {},
     "output_type": "execute_result"
    }
   ],
   "source": [
    "pokemon = pd.read_csv(\"C:/Users/sharma/Desktop/pandas/pandas/Incomplete/pokemon.csv\", index_col = \"Name\").squeeze()\n",
    "pokemon"
   ]
  },
  {
   "cell_type": "code",
   "execution_count": 11,
   "id": "bfbc0e84-69c4-495d-b021-da971dbaaac2",
   "metadata": {},
   "outputs": [],
   "source": [
    "attack_power = {\n",
    "    'Grass' : 10,\n",
    "     'Fire' : 15,\n",
    "    'Water' : 20,\n",
    "    \"Fighting,Dragon\" : 25,\n",
    "    \"Fairy, Fighting\" : 30\n",
    "    \n",
    "}"
   ]
  },
  {
   "cell_type": "code",
   "execution_count": 12,
   "id": "ffd0198a-d231-470d-9f3f-aa8ac81acd27",
   "metadata": {},
   "outputs": [
    {
     "data": {
      "text/plain": [
       "Name\n",
       "Bulbasaur        NaN\n",
       "Ivysaur          NaN\n",
       "Venusaur         NaN\n",
       "Charmander      15.0\n",
       "Charmeleon      15.0\n",
       "                ... \n",
       "Iron Valiant    30.0\n",
       "Koraidon         NaN\n",
       "Miraidon         NaN\n",
       "Walking Wake     NaN\n",
       "Iron Leaves      NaN\n",
       "Name: Type, Length: 1010, dtype: float64"
      ]
     },
     "execution_count": 12,
     "metadata": {},
     "output_type": "execute_result"
    }
   ],
   "source": [
    "pokemon.map(attack_power)"
   ]
  },
  {
   "cell_type": "code",
   "execution_count": 15,
   "id": "ee96e99e-46cc-4834-87f4-83b9701dbe0e",
   "metadata": {},
   "outputs": [],
   "source": [
    "attack_power = pd.Series({\n",
    "    'Grass' : 10,\n",
    "     'Fire' : 20,\n",
    "    'Water' : 25,\n",
    "    \"Fighting,Dragon\" : 30  \n",
    "})"
   ]
  },
  {
   "cell_type": "code",
   "execution_count": 16,
   "id": "344ec433-2952-4cdd-838c-872d415ba468",
   "metadata": {},
   "outputs": [
    {
     "data": {
      "text/plain": [
       "Name\n",
       "Bulbasaur        NaN\n",
       "Ivysaur          NaN\n",
       "Venusaur         NaN\n",
       "Charmander      20.0\n",
       "Charmeleon      20.0\n",
       "                ... \n",
       "Iron Valiant     NaN\n",
       "Koraidon         NaN\n",
       "Miraidon         NaN\n",
       "Walking Wake     NaN\n",
       "Iron Leaves      NaN\n",
       "Name: Type, Length: 1010, dtype: float64"
      ]
     },
     "execution_count": 16,
     "metadata": {},
     "output_type": "execute_result"
    }
   ],
   "source": [
    "pokemon.map(attack_power)"
   ]
  },
  {
   "cell_type": "code",
   "execution_count": null,
   "id": "9f1751cb-7523-471c-8e61-ba4764025125",
   "metadata": {},
   "outputs": [],
   "source": []
  },
  {
   "cell_type": "code",
   "execution_count": null,
   "id": "03040d5c-701e-4fc1-8cae-7b44b69c8407",
   "metadata": {},
   "outputs": [],
   "source": []
  }
 ],
 "metadata": {
  "kernelspec": {
   "display_name": "Python 3 (ipykernel)",
   "language": "python",
   "name": "python3"
  },
  "language_info": {
   "codemirror_mode": {
    "name": "ipython",
    "version": 3
   },
   "file_extension": ".py",
   "mimetype": "text/x-python",
   "name": "python",
   "nbconvert_exporter": "python",
   "pygments_lexer": "ipython3",
   "version": "3.12.0"
  }
 },
 "nbformat": 4,
 "nbformat_minor": 5
}
